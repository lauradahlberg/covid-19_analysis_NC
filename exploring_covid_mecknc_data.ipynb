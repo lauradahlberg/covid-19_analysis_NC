{
 "cells": [
  {
   "cell_type": "markdown",
   "metadata": {},
   "source": [
    "# Exploring COVID-19 deaths Related data in Mecklenburg County<br>\n",
    "\n",
    "Data Source: [Mecklenburg County COVID-19 Data Releases](https://www.mecknc.gov/news/Pages/COVID-19-Data-Dashboard.aspx)\n",
    "<br>\n",
    "0. Reading Data\n",
    "1. Death Percentage by Age Bracket<br>\n",
    "   1.1 Monthly Death Percentage By Age Bracket Chart\n",
    "2. Death Count - All Ages  <br>\n",
    "   2.1 Monthly Deaths - All Ages\n",
    "3. Death Percentage - All Ages\n",
    "4. New Cases\n",
    "5. Deaths vs. New Cases\n",
    "6. Deaths by Age Bracket <br>\n",
    "   6.1 Total Deaths by Age Bracket <br>\n",
    "   6.2 Deaths by Age Bracket Throughout 2020 <br>\n",
    "   6.3 Monthly Deaths by Age Bracket <br>\n",
    "7. Other Underlying Illness Conditions <br>\n",
    "   7.1 Monthly Deaths With Underlying Illness Conditions vs Deaths Without <br>\n",
    "   7.2 Total Death Percentage and Count With and Without Other Underlying Conditions\n",
    "<br>"
   ]
  },
  {
   "cell_type": "code",
   "execution_count": 1,
   "metadata": {},
   "outputs": [],
   "source": [
    "import os\n",
    "import shutil\n",
    "import datetime\n",
    "from dateutil import relativedelta\n",
    "import pandas as pd\n",
    "from pathlib import Path\n",
    "import numpy as np\n",
    "import matplotlib.pyplot as plt\n",
    "import matplotlib.dates as mdates\n",
    "import matplotlib.ticker as mtick\n",
    "from matplotlib import cm\n",
    "%matplotlib inline"
   ]
  },
  {
   "cell_type": "code",
   "execution_count": 2,
   "metadata": {},
   "outputs": [],
   "source": [
    "ROOT = Path(\"./\")\n",
    "DATA = ROOT/'data'\n",
    "# [f for f in ROOT.iterdir()]\n",
    "# [f for f in DATA.iterdir()]"
   ]
  },
  {
   "cell_type": "code",
   "execution_count": 3,
   "metadata": {},
   "outputs": [
    {
     "name": "stdout",
     "output_type": "stream",
     "text": [
      ".\n",
      "data\n"
     ]
    }
   ],
   "source": [
    "print(ROOT)\n",
    "print(DATA)"
   ]
  },
  {
   "cell_type": "code",
   "execution_count": 4,
   "metadata": {},
   "outputs": [
    {
     "name": "stdout",
     "output_type": "stream",
     "text": [
      " Volume in drive C has no label.\n",
      " Volume Serial Number is FCBC-A9FB\n",
      "\n",
      " Directory of C:\\Users\\laura\\covid-19\\covid-19_analysis_NC\\data\n",
      "\n",
      "01/08/2021  06:56 PM    <DIR>          .\n",
      "01/08/2021  06:56 PM    <DIR>          ..\n",
      "01/08/2021  06:56 PM             8,024 weekly_covid19_report_mecknc.csv\n",
      "               1 File(s)          8,024 bytes\n",
      "               2 Dir(s)  290,077,212,672 bytes free\n"
     ]
    }
   ],
   "source": [
    "%ls {DATA}"
   ]
  },
  {
   "cell_type": "markdown",
   "metadata": {},
   "source": [
    "### 0. Reading Data\n",
    "----"
   ]
  },
  {
   "cell_type": "code",
   "execution_count": 5,
   "metadata": {
    "scrolled": false
   },
   "outputs": [
    {
     "data": {
      "text/html": [
       "<div>\n",
       "<style scoped>\n",
       "    .dataframe tbody tr th:only-of-type {\n",
       "        vertical-align: middle;\n",
       "    }\n",
       "\n",
       "    .dataframe tbody tr th {\n",
       "        vertical-align: top;\n",
       "    }\n",
       "\n",
       "    .dataframe thead th {\n",
       "        text-align: right;\n",
       "    }\n",
       "</style>\n",
       "<table border=\"1\" class=\"dataframe\">\n",
       "  <thead>\n",
       "    <tr style=\"text-align: right;\">\n",
       "      <th></th>\n",
       "      <th>date</th>\n",
       "      <th>cases_cum_count</th>\n",
       "      <th>new_0_19_pct</th>\n",
       "      <th>new_20_39_pct</th>\n",
       "      <th>new_40_59_pct</th>\n",
       "      <th>new_60_pct</th>\n",
       "      <th>new_0_19_count</th>\n",
       "      <th>not_hosp_pct</th>\n",
       "      <th>hosp_pct</th>\n",
       "      <th>under_invest_pct</th>\n",
       "      <th>...</th>\n",
       "      <th>hosp_40_59_pct</th>\n",
       "      <th>hosp_60_plus_pct</th>\n",
       "      <th>death_0_19_pct</th>\n",
       "      <th>death_20_39_pct</th>\n",
       "      <th>death_40_59_pct</th>\n",
       "      <th>death_60_plus_pct</th>\n",
       "      <th>death_0_19_cum_count</th>\n",
       "      <th>death_20_39_cum_count</th>\n",
       "      <th>death_40_59_cum_count</th>\n",
       "      <th>no_other_ill_cum_count</th>\n",
       "    </tr>\n",
       "  </thead>\n",
       "  <tbody>\n",
       "    <tr>\n",
       "      <th>0</th>\n",
       "      <td>2020-03-22</td>\n",
       "      <td>80</td>\n",
       "      <td>1.2</td>\n",
       "      <td>48.8</td>\n",
       "      <td>32.5</td>\n",
       "      <td>17.5</td>\n",
       "      <td>NaN</td>\n",
       "      <td>NaN</td>\n",
       "      <td>NaN</td>\n",
       "      <td>NaN</td>\n",
       "      <td>...</td>\n",
       "      <td>0.0</td>\n",
       "      <td>0.0</td>\n",
       "      <td>NaN</td>\n",
       "      <td>NaN</td>\n",
       "      <td>NaN</td>\n",
       "      <td>NaN</td>\n",
       "      <td>0</td>\n",
       "      <td>0</td>\n",
       "      <td>0</td>\n",
       "      <td>0</td>\n",
       "    </tr>\n",
       "    <tr>\n",
       "      <th>1</th>\n",
       "      <td>2020-03-26</td>\n",
       "      <td>230</td>\n",
       "      <td>1.0</td>\n",
       "      <td>46.0</td>\n",
       "      <td>34.8</td>\n",
       "      <td>18.2</td>\n",
       "      <td>NaN</td>\n",
       "      <td>77.8</td>\n",
       "      <td>17.8</td>\n",
       "      <td>4.4</td>\n",
       "      <td>...</td>\n",
       "      <td>0.0</td>\n",
       "      <td>0.0</td>\n",
       "      <td>NaN</td>\n",
       "      <td>NaN</td>\n",
       "      <td>NaN</td>\n",
       "      <td>NaN</td>\n",
       "      <td>0</td>\n",
       "      <td>0</td>\n",
       "      <td>0</td>\n",
       "      <td>0</td>\n",
       "    </tr>\n",
       "    <tr>\n",
       "      <th>2</th>\n",
       "      <td>2020-03-28</td>\n",
       "      <td>303</td>\n",
       "      <td>0.7</td>\n",
       "      <td>41.3</td>\n",
       "      <td>34.0</td>\n",
       "      <td>24.1</td>\n",
       "      <td>NaN</td>\n",
       "      <td>75.2</td>\n",
       "      <td>21.2</td>\n",
       "      <td>3.6</td>\n",
       "      <td>...</td>\n",
       "      <td>17.0</td>\n",
       "      <td>53.0</td>\n",
       "      <td>NaN</td>\n",
       "      <td>NaN</td>\n",
       "      <td>NaN</td>\n",
       "      <td>NaN</td>\n",
       "      <td>0</td>\n",
       "      <td>0</td>\n",
       "      <td>0</td>\n",
       "      <td>0</td>\n",
       "    </tr>\n",
       "    <tr>\n",
       "      <th>3</th>\n",
       "      <td>2020-04-01</td>\n",
       "      <td>466</td>\n",
       "      <td>1.1</td>\n",
       "      <td>38.4</td>\n",
       "      <td>36.1</td>\n",
       "      <td>24.5</td>\n",
       "      <td>NaN</td>\n",
       "      <td>75.3</td>\n",
       "      <td>18.9</td>\n",
       "      <td>5.8</td>\n",
       "      <td>...</td>\n",
       "      <td>16.0</td>\n",
       "      <td>50.0</td>\n",
       "      <td>NaN</td>\n",
       "      <td>NaN</td>\n",
       "      <td>NaN</td>\n",
       "      <td>NaN</td>\n",
       "      <td>0</td>\n",
       "      <td>0</td>\n",
       "      <td>0</td>\n",
       "      <td>0</td>\n",
       "    </tr>\n",
       "    <tr>\n",
       "      <th>4</th>\n",
       "      <td>2020-04-04</td>\n",
       "      <td>650</td>\n",
       "      <td>1.7</td>\n",
       "      <td>34.9</td>\n",
       "      <td>35.8</td>\n",
       "      <td>24.5</td>\n",
       "      <td>11.0</td>\n",
       "      <td>74.5</td>\n",
       "      <td>19.7</td>\n",
       "      <td>5.8</td>\n",
       "      <td>...</td>\n",
       "      <td>16.0</td>\n",
       "      <td>48.0</td>\n",
       "      <td>NaN</td>\n",
       "      <td>NaN</td>\n",
       "      <td>NaN</td>\n",
       "      <td>NaN</td>\n",
       "      <td>0</td>\n",
       "      <td>0</td>\n",
       "      <td>0</td>\n",
       "      <td>0</td>\n",
       "    </tr>\n",
       "  </tbody>\n",
       "</table>\n",
       "<p>5 rows × 25 columns</p>\n",
       "</div>"
      ],
      "text/plain": [
       "         date  cases_cum_count  new_0_19_pct  new_20_39_pct  new_40_59_pct  \\\n",
       "0  2020-03-22               80           1.2           48.8           32.5   \n",
       "1  2020-03-26              230           1.0           46.0           34.8   \n",
       "2  2020-03-28              303           0.7           41.3           34.0   \n",
       "3  2020-04-01              466           1.1           38.4           36.1   \n",
       "4  2020-04-04              650           1.7           34.9           35.8   \n",
       "\n",
       "   new_60_pct  new_0_19_count  not_hosp_pct  hosp_pct  under_invest_pct  ...  \\\n",
       "0        17.5             NaN           NaN       NaN               NaN  ...   \n",
       "1        18.2             NaN          77.8      17.8               4.4  ...   \n",
       "2        24.1             NaN          75.2      21.2               3.6  ...   \n",
       "3        24.5             NaN          75.3      18.9               5.8  ...   \n",
       "4        24.5            11.0          74.5      19.7               5.8  ...   \n",
       "\n",
       "   hosp_40_59_pct  hosp_60_plus_pct death_0_19_pct  death_20_39_pct  \\\n",
       "0             0.0               0.0            NaN              NaN   \n",
       "1             0.0               0.0            NaN              NaN   \n",
       "2            17.0              53.0            NaN              NaN   \n",
       "3            16.0              50.0            NaN              NaN   \n",
       "4            16.0              48.0            NaN              NaN   \n",
       "\n",
       "   death_40_59_pct  death_60_plus_pct  death_0_19_cum_count  \\\n",
       "0              NaN                NaN                     0   \n",
       "1              NaN                NaN                     0   \n",
       "2              NaN                NaN                     0   \n",
       "3              NaN                NaN                     0   \n",
       "4              NaN                NaN                     0   \n",
       "\n",
       "   death_20_39_cum_count  death_40_59_cum_count  no_other_ill_cum_count  \n",
       "0                      0                      0                       0  \n",
       "1                      0                      0                       0  \n",
       "2                      0                      0                       0  \n",
       "3                      0                      0                       0  \n",
       "4                      0                      0                       0  \n",
       "\n",
       "[5 rows x 25 columns]"
      ]
     },
     "execution_count": 5,
     "metadata": {},
     "output_type": "execute_result"
    }
   ],
   "source": [
    "df = pd.read_csv(DATA/'weekly_covid19_report_mecknc.csv')\n",
    "df.head()\n",
    "# df.info()\n",
    "# list(df.columns)"
   ]
  },
  {
   "cell_type": "code",
   "execution_count": 6,
   "metadata": {},
   "outputs": [
    {
     "name": "stdout",
     "output_type": "stream",
     "text": [
      "<class 'pandas.core.frame.DataFrame'>\n",
      "RangeIndex: 76 entries, 0 to 75\n",
      "Data columns (total 25 columns):\n",
      "date                      76 non-null datetime64[ns]\n",
      "cases_cum_count           76 non-null int64\n",
      "new_0_19_pct              76 non-null float64\n",
      "new_20_39_pct             76 non-null float64\n",
      "new_40_59_pct             76 non-null float64\n",
      "new_60_pct                76 non-null float64\n",
      "new_0_19_count            1 non-null float64\n",
      "not_hosp_pct              11 non-null float64\n",
      "hosp_pct                  11 non-null float64\n",
      "under_invest_pct          11 non-null float64\n",
      "death_cum_count           76 non-null int64\n",
      "death_ltc_cum_count       15 non-null float64\n",
      "death_pct                 76 non-null object\n",
      "hosp_0_19_                12 non-null float64\n",
      "hosp_20_36_pct            12 non-null float64\n",
      "hosp_40_59_pct            12 non-null float64\n",
      "hosp_60_plus_pct          12 non-null float64\n",
      "death_0_19_pct            64 non-null float64\n",
      "death_20_39_pct           64 non-null float64\n",
      "death_40_59_pct           64 non-null float64\n",
      "death_60_plus_pct         64 non-null float64\n",
      "death_0_19_cum_count      76 non-null int64\n",
      "death_20_39_cum_count     76 non-null int64\n",
      "death_40_59_cum_count     76 non-null int64\n",
      "no_other_ill_cum_count    76 non-null int64\n",
      "dtypes: datetime64[ns](1), float64(17), int64(6), object(1)\n",
      "memory usage: 14.9+ KB\n"
     ]
    }
   ],
   "source": [
    "## converting 'date' column to datetime format\n",
    "\n",
    "df['date'] = pd.to_datetime(df['date'])\n",
    "\n",
    "df.info()"
   ]
  },
  {
   "cell_type": "code",
   "execution_count": 7,
   "metadata": {
    "scrolled": true
   },
   "outputs": [
    {
     "data": {
      "text/html": [
       "<div>\n",
       "<style scoped>\n",
       "    .dataframe tbody tr th:only-of-type {\n",
       "        vertical-align: middle;\n",
       "    }\n",
       "\n",
       "    .dataframe tbody tr th {\n",
       "        vertical-align: top;\n",
       "    }\n",
       "\n",
       "    .dataframe thead th {\n",
       "        text-align: right;\n",
       "    }\n",
       "</style>\n",
       "<table border=\"1\" class=\"dataframe\">\n",
       "  <thead>\n",
       "    <tr style=\"text-align: right;\">\n",
       "      <th></th>\n",
       "      <th>date</th>\n",
       "      <th>cases_cum_count</th>\n",
       "      <th>new_0_19_pct</th>\n",
       "      <th>new_20_39_pct</th>\n",
       "      <th>new_40_59_pct</th>\n",
       "      <th>new_60_pct</th>\n",
       "      <th>new_0_19_count</th>\n",
       "      <th>not_hosp_pct</th>\n",
       "      <th>hosp_pct</th>\n",
       "      <th>under_invest_pct</th>\n",
       "      <th>death_cum_count</th>\n",
       "      <th>death_ltc_cum_count</th>\n",
       "      <th>death_pct</th>\n",
       "      <th>hosp_0_19_</th>\n",
       "      <th>hosp_20_36_pct</th>\n",
       "      <th>hosp_40_59_pct</th>\n",
       "      <th>hosp_60_plus_pct</th>\n",
       "      <th>death_0_19_pct</th>\n",
       "      <th>death_20_39_pct</th>\n",
       "      <th>death_40_59_pct</th>\n",
       "      <th>death_60_plus_pct</th>\n",
       "      <th>death_0_19_cum_count</th>\n",
       "      <th>death_20_39_cum_count</th>\n",
       "      <th>death_40_59_cum_count</th>\n",
       "      <th>no_other_ill_cum_count</th>\n",
       "    </tr>\n",
       "  </thead>\n",
       "  <tbody>\n",
       "    <tr>\n",
       "      <th>71</th>\n",
       "      <td>2020-12-09</td>\n",
       "      <td>48673</td>\n",
       "      <td>15.6</td>\n",
       "      <td>43.4</td>\n",
       "      <td>28.3</td>\n",
       "      <td>12.7</td>\n",
       "      <td>NaN</td>\n",
       "      <td>NaN</td>\n",
       "      <td>NaN</td>\n",
       "      <td>NaN</td>\n",
       "      <td>481</td>\n",
       "      <td>239.0</td>\n",
       "      <td>1</td>\n",
       "      <td>NaN</td>\n",
       "      <td>NaN</td>\n",
       "      <td>NaN</td>\n",
       "      <td>NaN</td>\n",
       "      <td>0.0</td>\n",
       "      <td>2.1</td>\n",
       "      <td>23.6</td>\n",
       "      <td>74.4</td>\n",
       "      <td>0</td>\n",
       "      <td>5</td>\n",
       "      <td>64</td>\n",
       "      <td>7</td>\n",
       "    </tr>\n",
       "    <tr>\n",
       "      <th>72</th>\n",
       "      <td>2020-12-13</td>\n",
       "      <td>50845</td>\n",
       "      <td>15.6</td>\n",
       "      <td>43.4</td>\n",
       "      <td>28.3</td>\n",
       "      <td>12.8</td>\n",
       "      <td>NaN</td>\n",
       "      <td>NaN</td>\n",
       "      <td>NaN</td>\n",
       "      <td>NaN</td>\n",
       "      <td>487</td>\n",
       "      <td>242.0</td>\n",
       "      <td>1</td>\n",
       "      <td>NaN</td>\n",
       "      <td>NaN</td>\n",
       "      <td>NaN</td>\n",
       "      <td>NaN</td>\n",
       "      <td>0.0</td>\n",
       "      <td>2.4</td>\n",
       "      <td>23.7</td>\n",
       "      <td>73.9</td>\n",
       "      <td>0</td>\n",
       "      <td>6</td>\n",
       "      <td>65</td>\n",
       "      <td>8</td>\n",
       "    </tr>\n",
       "    <tr>\n",
       "      <th>73</th>\n",
       "      <td>2020-12-16</td>\n",
       "      <td>53194</td>\n",
       "      <td>15.6</td>\n",
       "      <td>43.4</td>\n",
       "      <td>28.2</td>\n",
       "      <td>12.7</td>\n",
       "      <td>NaN</td>\n",
       "      <td>NaN</td>\n",
       "      <td>NaN</td>\n",
       "      <td>NaN</td>\n",
       "      <td>502</td>\n",
       "      <td>252.0</td>\n",
       "      <td>less than 1</td>\n",
       "      <td>NaN</td>\n",
       "      <td>NaN</td>\n",
       "      <td>NaN</td>\n",
       "      <td>NaN</td>\n",
       "      <td>0.0</td>\n",
       "      <td>2.4</td>\n",
       "      <td>24.0</td>\n",
       "      <td>73.6</td>\n",
       "      <td>0</td>\n",
       "      <td>7</td>\n",
       "      <td>67</td>\n",
       "      <td>8</td>\n",
       "    </tr>\n",
       "    <tr>\n",
       "      <th>74</th>\n",
       "      <td>2020-12-20</td>\n",
       "      <td>56044</td>\n",
       "      <td>15.6</td>\n",
       "      <td>43.3</td>\n",
       "      <td>28.3</td>\n",
       "      <td>12.8</td>\n",
       "      <td>NaN</td>\n",
       "      <td>NaN</td>\n",
       "      <td>NaN</td>\n",
       "      <td>NaN</td>\n",
       "      <td>514</td>\n",
       "      <td>258.0</td>\n",
       "      <td>less than 1</td>\n",
       "      <td>NaN</td>\n",
       "      <td>NaN</td>\n",
       "      <td>NaN</td>\n",
       "      <td>NaN</td>\n",
       "      <td>0.0</td>\n",
       "      <td>2.3</td>\n",
       "      <td>23.4</td>\n",
       "      <td>74.2</td>\n",
       "      <td>0</td>\n",
       "      <td>7</td>\n",
       "      <td>67</td>\n",
       "      <td>8</td>\n",
       "    </tr>\n",
       "    <tr>\n",
       "      <th>75</th>\n",
       "      <td>2020-12-27</td>\n",
       "      <td>60337</td>\n",
       "      <td>15.4</td>\n",
       "      <td>43.1</td>\n",
       "      <td>28.4</td>\n",
       "      <td>13.1</td>\n",
       "      <td>NaN</td>\n",
       "      <td>NaN</td>\n",
       "      <td>NaN</td>\n",
       "      <td>NaN</td>\n",
       "      <td>552</td>\n",
       "      <td>272.0</td>\n",
       "      <td>less than 1</td>\n",
       "      <td>NaN</td>\n",
       "      <td>NaN</td>\n",
       "      <td>NaN</td>\n",
       "      <td>NaN</td>\n",
       "      <td>0.0</td>\n",
       "      <td>2.1</td>\n",
       "      <td>21.4</td>\n",
       "      <td>76.4</td>\n",
       "      <td>0</td>\n",
       "      <td>7</td>\n",
       "      <td>68</td>\n",
       "      <td>10</td>\n",
       "    </tr>\n",
       "  </tbody>\n",
       "</table>\n",
       "</div>"
      ],
      "text/plain": [
       "         date  cases_cum_count  new_0_19_pct  new_20_39_pct  new_40_59_pct  \\\n",
       "71 2020-12-09            48673          15.6           43.4           28.3   \n",
       "72 2020-12-13            50845          15.6           43.4           28.3   \n",
       "73 2020-12-16            53194          15.6           43.4           28.2   \n",
       "74 2020-12-20            56044          15.6           43.3           28.3   \n",
       "75 2020-12-27            60337          15.4           43.1           28.4   \n",
       "\n",
       "    new_60_pct  new_0_19_count  not_hosp_pct  hosp_pct  under_invest_pct  \\\n",
       "71        12.7             NaN           NaN       NaN               NaN   \n",
       "72        12.8             NaN           NaN       NaN               NaN   \n",
       "73        12.7             NaN           NaN       NaN               NaN   \n",
       "74        12.8             NaN           NaN       NaN               NaN   \n",
       "75        13.1             NaN           NaN       NaN               NaN   \n",
       "\n",
       "    death_cum_count  death_ltc_cum_count    death_pct  hosp_0_19_  \\\n",
       "71              481                239.0            1         NaN   \n",
       "72              487                242.0            1         NaN   \n",
       "73              502                252.0  less than 1         NaN   \n",
       "74              514                258.0  less than 1         NaN   \n",
       "75              552                272.0  less than 1         NaN   \n",
       "\n",
       "    hosp_20_36_pct  hosp_40_59_pct  hosp_60_plus_pct  death_0_19_pct  \\\n",
       "71             NaN             NaN               NaN             0.0   \n",
       "72             NaN             NaN               NaN             0.0   \n",
       "73             NaN             NaN               NaN             0.0   \n",
       "74             NaN             NaN               NaN             0.0   \n",
       "75             NaN             NaN               NaN             0.0   \n",
       "\n",
       "    death_20_39_pct  death_40_59_pct  death_60_plus_pct  death_0_19_cum_count  \\\n",
       "71              2.1             23.6               74.4                     0   \n",
       "72              2.4             23.7               73.9                     0   \n",
       "73              2.4             24.0               73.6                     0   \n",
       "74              2.3             23.4               74.2                     0   \n",
       "75              2.1             21.4               76.4                     0   \n",
       "\n",
       "    death_20_39_cum_count  death_40_59_cum_count  no_other_ill_cum_count  \n",
       "71                      5                     64                       7  \n",
       "72                      6                     65                       8  \n",
       "73                      7                     67                       8  \n",
       "74                      7                     67                       8  \n",
       "75                      7                     68                      10  "
      ]
     },
     "execution_count": 7,
     "metadata": {},
     "output_type": "execute_result"
    }
   ],
   "source": [
    "pd.set_option('display.max_columns', None, 'max_rows', None)\n",
    "df.tail()"
   ]
  },
  {
   "cell_type": "markdown",
   "metadata": {},
   "source": [
    "<br><br><br>\n",
    "### 1. Death Percentage by Age Bracket\n",
    "---\n",
    "Out of all COVID deaths, this is death percentage distributed among four different age brackets. <br>\n",
    "<br>\n",
    "- 0-19 age bracket (lightest blue) has remain the same (zero) since mecknc.gov started to post reports on its dashboard. No deaths for people 19 and younger have been reported in Mecklenburg county.\n",
    "- Age bracket 20-39 (very light blue) trends up, and maintaint the in third place. \n",
    "- 40-59 age group (Carolina Blue), went up and peaked in April, then steady and slightly down. \n",
    "- 60+ age group (navy blue). Always the highest age bracket with covid deaths. But, the percentage has steadily going down <br>"
   ]
  },
  {
   "cell_type": "code",
   "execution_count": 8,
   "metadata": {},
   "outputs": [
    {
     "data": {
      "text/html": [
       "<div>\n",
       "<style scoped>\n",
       "    .dataframe tbody tr th:only-of-type {\n",
       "        vertical-align: middle;\n",
       "    }\n",
       "\n",
       "    .dataframe tbody tr th {\n",
       "        vertical-align: top;\n",
       "    }\n",
       "\n",
       "    .dataframe thead th {\n",
       "        text-align: right;\n",
       "    }\n",
       "</style>\n",
       "<table border=\"1\" class=\"dataframe\">\n",
       "  <thead>\n",
       "    <tr style=\"text-align: right;\">\n",
       "      <th></th>\n",
       "      <th>death_0_19_pct</th>\n",
       "      <th>death_20_39_pct</th>\n",
       "      <th>death_40_59_pct</th>\n",
       "      <th>death_60_plus_pct</th>\n",
       "    </tr>\n",
       "  </thead>\n",
       "  <tbody>\n",
       "    <tr>\n",
       "      <th>71</th>\n",
       "      <td>0.0</td>\n",
       "      <td>2.1</td>\n",
       "      <td>23.6</td>\n",
       "      <td>74.4</td>\n",
       "    </tr>\n",
       "    <tr>\n",
       "      <th>72</th>\n",
       "      <td>0.0</td>\n",
       "      <td>2.4</td>\n",
       "      <td>23.7</td>\n",
       "      <td>73.9</td>\n",
       "    </tr>\n",
       "    <tr>\n",
       "      <th>73</th>\n",
       "      <td>0.0</td>\n",
       "      <td>2.4</td>\n",
       "      <td>24.0</td>\n",
       "      <td>73.6</td>\n",
       "    </tr>\n",
       "    <tr>\n",
       "      <th>74</th>\n",
       "      <td>0.0</td>\n",
       "      <td>2.3</td>\n",
       "      <td>23.4</td>\n",
       "      <td>74.2</td>\n",
       "    </tr>\n",
       "    <tr>\n",
       "      <th>75</th>\n",
       "      <td>0.0</td>\n",
       "      <td>2.1</td>\n",
       "      <td>21.4</td>\n",
       "      <td>76.4</td>\n",
       "    </tr>\n",
       "  </tbody>\n",
       "</table>\n",
       "</div>"
      ],
      "text/plain": [
       "    death_0_19_pct  death_20_39_pct  death_40_59_pct  death_60_plus_pct\n",
       "71             0.0              2.1             23.6               74.4\n",
       "72             0.0              2.4             23.7               73.9\n",
       "73             0.0              2.4             24.0               73.6\n",
       "74             0.0              2.3             23.4               74.2\n",
       "75             0.0              2.1             21.4               76.4"
      ]
     },
     "execution_count": 8,
     "metadata": {},
     "output_type": "execute_result"
    }
   ],
   "source": [
    "## columns with death percentage by age bracket\n",
    "df[[\"death_0_19_pct\",\"death_20_39_pct\",'death_40_59_pct','death_60_plus_pct']].tail()"
   ]
  },
  {
   "cell_type": "code",
   "execution_count": 9,
   "metadata": {},
   "outputs": [],
   "source": [
    "## plot death percentage by age bracket (each row)\n",
    "\n",
    "# df['date']\n",
    "# pt_perc_death = df.plot(x=\"date\", y=[\"death_0_19_pct\",\"death_20_39_pct\",'death_40_59_pct','death_60_plus_pct'], \n",
    "#                             figsize=(20,9), \n",
    "#                             kind='bar', \n",
    "#                             stacked=True, \n",
    "#                             cmap=cmap,\n",
    "#                             title='COVID-19 Death Percentage By Age bracket')\n",
    "# pt_perc_death.set_ylabel('Percent')\n",
    "# pt_perc_death.grid(axis='y')\n",
    "# pt_perc_death.set_xticklabels(df['date'].dt.date);"
   ]
  },
  {
   "cell_type": "markdown",
   "metadata": {},
   "source": [
    "<br>\n",
    "<br>\n",
    "<br>\n",
    "\n",
    "### 1.1 Monthly Death Percentage By Age Bracket Chart\n"
   ]
  },
  {
   "cell_type": "code",
   "execution_count": 10,
   "metadata": {},
   "outputs": [
    {
     "data": {
      "image/png": "[encoded data removed]",
      "text/plain": [
       "<Figure size 1440x648 with 1 Axes>"
      ]
     },
     "metadata": {
      "needs_background": "light"
     },
     "output_type": "display_data"
    }
   ],
   "source": [
    "## calculating and plotting  monthly Death percentage by age bracket \n",
    "## cmap for plot colors. Add '_r' to the end of the color to reverse palette\n",
    "cmap = cm.get_cmap('Blues')\n",
    "ax = df.resample('M', on='date').mean().reset_index().plot(x=\"date\", y=[\"death_0_19_pct\",\"death_20_39_pct\",'death_40_59_pct','death_60_plus_pct'], \n",
    "                            figsize=(20,9), \n",
    "                            kind='bar', \n",
    "                            stacked=True, \n",
    "                            cmap=cmap,\n",
    "                            title='\\n\\nCOVID-19 Death Percentage By Age bracket')\n",
    "ax.set_xticklabels(df['date'].dt.strftime('%b'));\n",
    "#reference to suppress text before plot in output: https://stackoverflow.com/questions/57165540/hide-text-before-seaborn-barplot/57165673"
   ]
  },
  {
   "cell_type": "markdown",
   "metadata": {},
   "source": [
    "<br><br><br>\n",
    "### 2. Death Count - All Ages\n",
    "---"
   ]
  },
  {
   "cell_type": "code",
   "execution_count": 11,
   "metadata": {},
   "outputs": [
    {
     "data": {
      "text/html": [
       "<div>\n",
       "<style scoped>\n",
       "    .dataframe tbody tr th:only-of-type {\n",
       "        vertical-align: middle;\n",
       "    }\n",
       "\n",
       "    .dataframe tbody tr th {\n",
       "        vertical-align: top;\n",
       "    }\n",
       "\n",
       "    .dataframe thead th {\n",
       "        text-align: right;\n",
       "    }\n",
       "</style>\n",
       "<table border=\"1\" class=\"dataframe\">\n",
       "  <thead>\n",
       "    <tr style=\"text-align: right;\">\n",
       "      <th></th>\n",
       "      <th>date</th>\n",
       "      <th>death_cum_count</th>\n",
       "      <th>death_count</th>\n",
       "    </tr>\n",
       "  </thead>\n",
       "  <tbody>\n",
       "    <tr>\n",
       "      <th>71</th>\n",
       "      <td>2020-12-09</td>\n",
       "      <td>481</td>\n",
       "      <td>4</td>\n",
       "    </tr>\n",
       "    <tr>\n",
       "      <th>72</th>\n",
       "      <td>2020-12-13</td>\n",
       "      <td>487</td>\n",
       "      <td>6</td>\n",
       "    </tr>\n",
       "    <tr>\n",
       "      <th>73</th>\n",
       "      <td>2020-12-16</td>\n",
       "      <td>502</td>\n",
       "      <td>15</td>\n",
       "    </tr>\n",
       "    <tr>\n",
       "      <th>74</th>\n",
       "      <td>2020-12-20</td>\n",
       "      <td>514</td>\n",
       "      <td>12</td>\n",
       "    </tr>\n",
       "    <tr>\n",
       "      <th>75</th>\n",
       "      <td>2020-12-27</td>\n",
       "      <td>552</td>\n",
       "      <td>38</td>\n",
       "    </tr>\n",
       "  </tbody>\n",
       "</table>\n",
       "</div>"
      ],
      "text/plain": [
       "         date  death_cum_count  death_count\n",
       "71 2020-12-09              481            4\n",
       "72 2020-12-13              487            6\n",
       "73 2020-12-16              502           15\n",
       "74 2020-12-20              514           12\n",
       "75 2020-12-27              552           38"
      ]
     },
     "execution_count": 11,
     "metadata": {},
     "output_type": "execute_result"
    }
   ],
   "source": [
    "## Creating and calculating 'death_count' column...\n",
    "## ...from 'death_cum_count'. Converting new column data type to integer.\n",
    "\n",
    "df['death_count'] = pd.Series(df['death_cum_count'].values).diff(periods=1).fillna(0).astype(int)\n",
    "\n",
    "df[['date','death_cum_count', 'death_count']].tail()\n",
    "\n",
    "## another way to get death count?\n",
    "# diff_kernel\n",
    "# df['death_count'] = np.convolve(df['death_cum_count'], diff_kernel, 'same')"
   ]
  },
  {
   "cell_type": "code",
   "execution_count": 12,
   "metadata": {},
   "outputs": [
    {
     "data": {
      "image/png": "[encoded data removed]",
      "text/plain": [
       "<Figure size 1080x432 with 1 Axes>"
      ]
     },
     "metadata": {
      "needs_background": "light"
     },
     "output_type": "display_data"
    }
   ],
   "source": [
    "## Plotting 'death_count'\n",
    "ax_death_count = df.plot.area(x='date', \n",
    "               y='death_count', \n",
    "               figsize=(15,6), \n",
    "               stacked=False,\n",
    "               title='COVID-19 Death Count - All Ages')\n",
    "\n",
    "##***** NEED TO ADD TREND LINE *****"
   ]
  },
  {
   "cell_type": "markdown",
   "metadata": {},
   "source": [
    "#### COVID-19 Death Count - All Ages Chart\n",
    "The highest COVID-19 death numbers were reported in the December 27, with a count of 38.<br>\n",
    "As we can see in this chart the COVID-19 death number has been going up and down from the very beginning. <br>\n",
    "<br><br>"
   ]
  },
  {
   "cell_type": "markdown",
   "metadata": {},
   "source": [
    "### 2.1 Monthly Death County - All Ages"
   ]
  },
  {
   "cell_type": "code",
   "execution_count": 13,
   "metadata": {},
   "outputs": [
    {
     "data": {
      "image/png": "[encoded data removed]",
      "text/plain": [
       "<Figure size 1440x648 with 1 Axes>"
      ]
     },
     "metadata": {
      "needs_background": "light"
     },
     "output_type": "display_data"
    }
   ],
   "source": [
    "## Plotting monthly Death Count - All Ages\n",
    "ax= df.resample('M', on='date').mean().reset_index().plot(x='date', y='death_count', \n",
    "                                                                figsize=(20,9),\n",
    "                                                                kind='bar',\n",
    "                                                                title='\\n\\n Monthly Death Count - All Ages')\n",
    "\n",
    "# ax.set_xticklabels(df['date'].dt.strftime('%Y-%m'));"
   ]
  },
  {
   "cell_type": "markdown",
   "metadata": {},
   "source": [
    "<br>\n",
    "<br>\n",
    "\n",
    "### 3. Death Percentage - All Ages\n",
    "---\n",
    "\n",
    "\n",
    "Total Death percentage compared with total cases\n",
    "\n",
    "At its highest point, at the begining of May, Out of all the COVID-19 cases, a little over 3% have died with the virus in Mecklenburg county. After that, the percentage rate has been consistently going down achieving less than 1% at the end of December."
   ]
  },
  {
   "cell_type": "code",
   "execution_count": 14,
   "metadata": {},
   "outputs": [
    {
     "data": {
      "text/html": [
       "<div>\n",
       "<style scoped>\n",
       "    .dataframe tbody tr th:only-of-type {\n",
       "        vertical-align: middle;\n",
       "    }\n",
       "\n",
       "    .dataframe tbody tr th {\n",
       "        vertical-align: top;\n",
       "    }\n",
       "\n",
       "    .dataframe thead th {\n",
       "        text-align: right;\n",
       "    }\n",
       "</style>\n",
       "<table border=\"1\" class=\"dataframe\">\n",
       "  <thead>\n",
       "    <tr style=\"text-align: right;\">\n",
       "      <th></th>\n",
       "      <th>date</th>\n",
       "      <th>death_cum_count</th>\n",
       "      <th>death_pct</th>\n",
       "      <th>cal_death_pct</th>\n",
       "    </tr>\n",
       "  </thead>\n",
       "  <tbody>\n",
       "    <tr>\n",
       "      <th>0</th>\n",
       "      <td>2020-03-22</td>\n",
       "      <td>0</td>\n",
       "      <td>0</td>\n",
       "      <td>0.0</td>\n",
       "    </tr>\n",
       "    <tr>\n",
       "      <th>1</th>\n",
       "      <td>2020-03-26</td>\n",
       "      <td>0</td>\n",
       "      <td>0</td>\n",
       "      <td>0.0</td>\n",
       "    </tr>\n",
       "    <tr>\n",
       "      <th>2</th>\n",
       "      <td>2020-03-28</td>\n",
       "      <td>1</td>\n",
       "      <td>0.3</td>\n",
       "      <td>0.3</td>\n",
       "    </tr>\n",
       "    <tr>\n",
       "      <th>3</th>\n",
       "      <td>2020-04-01</td>\n",
       "      <td>3</td>\n",
       "      <td>0.6</td>\n",
       "      <td>0.6</td>\n",
       "    </tr>\n",
       "    <tr>\n",
       "      <th>4</th>\n",
       "      <td>2020-04-04</td>\n",
       "      <td>7</td>\n",
       "      <td>1.1</td>\n",
       "      <td>1.1</td>\n",
       "    </tr>\n",
       "  </tbody>\n",
       "</table>\n",
       "</div>"
      ],
      "text/plain": [
       "        date  death_cum_count death_pct  cal_death_pct\n",
       "0 2020-03-22                0         0            0.0\n",
       "1 2020-03-26                0         0            0.0\n",
       "2 2020-03-28                1       0.3            0.3\n",
       "3 2020-04-01                3       0.6            0.6\n",
       "4 2020-04-04                7       1.1            1.1"
      ]
     },
     "execution_count": 14,
     "metadata": {},
     "output_type": "execute_result"
    }
   ],
   "source": [
    "## Calculating Death Percentage per row (all ages)\n",
    "## Created this calumn b/c starting Dec. 16,\n",
    "## 'death_pct' is reported as less than one percent \"<1.0% of cases\"\n",
    "df['cal_death_pct'] = ((df['death_cum_count'] * 100) / df['cases_cum_count']).round(1)\n",
    "df[['date','death_cum_count', 'death_pct', 'cal_death_pct']].head()"
   ]
  },
  {
   "cell_type": "code",
   "execution_count": 15,
   "metadata": {},
   "outputs": [
    {
     "data": {
      "image/png": "[encoded data removed]",
      "text/plain": [
       "<Figure size 720x432 with 1 Axes>"
      ]
     },
     "metadata": {
      "needs_background": "light"
     },
     "output_type": "display_data"
    }
   ],
   "source": [
    "## Plotting cal_death_pct\n",
    "pt_cal_death_pct = df.plot.area(x='date', \n",
    "                                  y='cal_death_pct', \n",
    "                                  figsize=(10,6), \n",
    "                                  stacked=False,\n",
    "                                  title='Total COVID-19 Death Percentage from Total Cases')\n",
    "pt_cal_death_pct.tick_params(labelright=True)\n",
    "pt_cal_death_pct.yaxis.set_major_formatter(mtick.PercentFormatter())\n",
    "pt_cal_death_pct.legend(['Death %']);"
   ]
  },
  {
   "cell_type": "markdown",
   "metadata": {},
   "source": [
    "#### \"Total COVID-19 Death Percentage from Total Cases\" Chart\n",
    "The percentage of people who died due to COVID-19 out of all people who tested positive to this virus, reached its peak in around the end of April of 2020. Since then, the percentage has steadily been going down. As of the last report dated December 27, the death percentage rate is less than 1%. In other words, currenlty Less than 1% of all people who tested positive to COVID-19 have died.\n",
    "<br><br><br>"
   ]
  },
  {
   "cell_type": "markdown",
   "metadata": {},
   "source": [
    "### 4. New Cases\n",
    "---\n",
    "\n",
    "We can observe stable numbers throughout the year, except in three different points, which coincide with three major holidays, Independence Day, Thanksgiving, and Christmas. It would be interesting to compare new cases numbers with testing numbers, and see the relation (if any) between the two of them.\n",
    "\n"
   ]
  },
  {
   "cell_type": "code",
   "execution_count": 16,
   "metadata": {},
   "outputs": [
    {
     "data": {
      "text/html": [
       "<div>\n",
       "<style scoped>\n",
       "    .dataframe tbody tr th:only-of-type {\n",
       "        vertical-align: middle;\n",
       "    }\n",
       "\n",
       "    .dataframe tbody tr th {\n",
       "        vertical-align: top;\n",
       "    }\n",
       "\n",
       "    .dataframe thead th {\n",
       "        text-align: right;\n",
       "    }\n",
       "</style>\n",
       "<table border=\"1\" class=\"dataframe\">\n",
       "  <thead>\n",
       "    <tr style=\"text-align: right;\">\n",
       "      <th></th>\n",
       "      <th>cases_cum_count</th>\n",
       "      <th>new_case_count</th>\n",
       "      <th>death_count</th>\n",
       "    </tr>\n",
       "  </thead>\n",
       "  <tbody>\n",
       "    <tr>\n",
       "      <th>71</th>\n",
       "      <td>48673</td>\n",
       "      <td>2062</td>\n",
       "      <td>4</td>\n",
       "    </tr>\n",
       "    <tr>\n",
       "      <th>72</th>\n",
       "      <td>50845</td>\n",
       "      <td>2172</td>\n",
       "      <td>6</td>\n",
       "    </tr>\n",
       "    <tr>\n",
       "      <th>73</th>\n",
       "      <td>53194</td>\n",
       "      <td>2349</td>\n",
       "      <td>15</td>\n",
       "    </tr>\n",
       "    <tr>\n",
       "      <th>74</th>\n",
       "      <td>56044</td>\n",
       "      <td>2850</td>\n",
       "      <td>12</td>\n",
       "    </tr>\n",
       "    <tr>\n",
       "      <th>75</th>\n",
       "      <td>60337</td>\n",
       "      <td>4293</td>\n",
       "      <td>38</td>\n",
       "    </tr>\n",
       "  </tbody>\n",
       "</table>\n",
       "</div>"
      ],
      "text/plain": [
       "    cases_cum_count  new_case_count  death_count\n",
       "71            48673            2062            4\n",
       "72            50845            2172            6\n",
       "73            53194            2349           15\n",
       "74            56044            2850           12\n",
       "75            60337            4293           38"
      ]
     },
     "execution_count": 16,
     "metadata": {},
     "output_type": "execute_result"
    }
   ],
   "source": [
    "## calculating new case count\n",
    "df['new_case_count'] = pd.Series(df['cases_cum_count'].values).diff(periods=1).fillna(0).astype(int).replace(0, 80)\n",
    "# df['death_20_39_count'] = pd.Series(df['death_20_39_cum_count'].values).diff(periods=1).fillna(0).astype(int)\n",
    "df[['cases_cum_count', 'new_case_count', 'death_count']].tail()"
   ]
  },
  {
   "cell_type": "code",
   "execution_count": 17,
   "metadata": {},
   "outputs": [
    {
     "data": {
      "text/plain": [
       "<matplotlib.collections.LineCollection at 0x19bbb05abe0>"
      ]
     },
     "execution_count": 17,
     "metadata": {},
     "output_type": "execute_result"
    },
    {
     "data": {
      "image/png": "[encoded data removed]",
      "text/plain": [
       "<Figure size 1080x432 with 1 Axes>"
      ]
     },
     "metadata": {
      "needs_background": "light"
     },
     "output_type": "display_data"
    }
   ],
   "source": [
    "## Plotting 'death_count''\n",
    "df.plot(x='date', \n",
    "                    y=['new_case_count'], \n",
    "                    figsize=(15,6),\n",
    "                    title='COVID-19 Death Count - All Ages\\nLinear Y-scaling')\n",
    "plt.hlines(y=844.5,xmin=df[\"date\"].min(),xmax=df[\"date\"].max())"
   ]
  },
  {
   "cell_type": "markdown",
   "metadata": {},
   "source": [
    "The black line marks the 75 percentile. This means that 75% of all the people who has tested positive to the virus, are below the 1,000 count at each specific point of time."
   ]
  },
  {
   "cell_type": "markdown",
   "metadata": {},
   "source": [
    "<br><br>\n",
    "\n",
    "### 5. Death Count vs New Case Count\n",
    "----\n",
    "In these two charts we see a contrast of total new cases (orange) vs total death (blue). <br>\n",
    "<br>\n",
    "Although we see increases in the number of people who tested positive to the virus, we don't see a significant increase (at least not in the same magnitude) in the number of people who have died with this virus. The deaths count line (blue) remains low in comparison to the orange line.<br>\n",
    "The black line denotes the 75 percentile. 75% of the cases are under the 1000 count<br>\n",
    "<br>\n",
    "To take a closer look, we magnify the view (second chart) to see the details and differences. Each tick in the \"y\"axis has a different scale, so we can magnify the differences and similarities. <br>\n",
    "From this chart we can see that when the number of cases goes up, the number of deaths also goes up, but the magnitud of this changes is very low. <br>"
   ]
  },
  {
   "cell_type": "code",
   "execution_count": 18,
   "metadata": {},
   "outputs": [
    {
     "data": {
      "image/png": "[encoded data removed]",
      "text/plain": [
       "<Figure size 1080x432 with 1 Axes>"
      ]
     },
     "metadata": {
      "needs_background": "light"
     },
     "output_type": "display_data"
    },
    {
     "data": {
      "image/png": "[encoded data removed]",
      "text/plain": [
       "<Figure size 1080x432 with 1 Axes>"
      ]
     },
     "metadata": {
      "needs_background": "light"
     },
     "output_type": "display_data"
    }
   ],
   "source": [
    "## Plotting 'death_count' vs 'new_case_count'\n",
    "df.plot(x='date', \n",
    "                    y=['death_count', 'new_case_count'], \n",
    "                    figsize=(15,6),\n",
    "                    title='COVID-19 Death Count - All Ages\\nLinear Y-scaling')\n",
    "plt.hlines(y=844.5,xmin=df[\"date\"].min(),xmax=df[\"date\"].max())\n",
    "plt.yscale(\"linear\")\n",
    "df.plot.area(x='date', \n",
    "               y=['death_count', 'new_case_count'], \n",
    "               figsize=(15,6), \n",
    "                    stacked=False,\n",
    "               title='COVID-19 Death Count - All Ages\\nSymlog Y-scaling')\n",
    "plt.yscale(\"symlog\")\n",
    "\n",
    "## *****EDIT Y AXIS TICKS OF SYMLOG CHART FOR CLEAR READING****"
   ]
  },
  {
   "cell_type": "code",
   "execution_count": 19,
   "metadata": {},
   "outputs": [
    {
     "data": {
      "text/html": [
       "<div>\n",
       "<style scoped>\n",
       "    .dataframe tbody tr th:only-of-type {\n",
       "        vertical-align: middle;\n",
       "    }\n",
       "\n",
       "    .dataframe tbody tr th {\n",
       "        vertical-align: top;\n",
       "    }\n",
       "\n",
       "    .dataframe thead th {\n",
       "        text-align: right;\n",
       "    }\n",
       "</style>\n",
       "<table border=\"1\" class=\"dataframe\">\n",
       "  <thead>\n",
       "    <tr style=\"text-align: right;\">\n",
       "      <th></th>\n",
       "      <th>count</th>\n",
       "      <th>mean</th>\n",
       "      <th>std</th>\n",
       "      <th>min</th>\n",
       "      <th>25%</th>\n",
       "      <th>50%</th>\n",
       "      <th>75%</th>\n",
       "      <th>max</th>\n",
       "    </tr>\n",
       "  </thead>\n",
       "  <tbody>\n",
       "    <tr>\n",
       "      <th>cases_cum_count</th>\n",
       "      <td>76.0</td>\n",
       "      <td>20364.434211</td>\n",
       "      <td>16085.899160</td>\n",
       "      <td>80.0</td>\n",
       "      <td>3854.00</td>\n",
       "      <td>21804.0</td>\n",
       "      <td>30370.0</td>\n",
       "      <td>60337.0</td>\n",
       "    </tr>\n",
       "    <tr>\n",
       "      <th>new_case_count</th>\n",
       "      <td>76.0</td>\n",
       "      <td>793.907895</td>\n",
       "      <td>769.483206</td>\n",
       "      <td>73.0</td>\n",
       "      <td>302.75</td>\n",
       "      <td>612.0</td>\n",
       "      <td>860.5</td>\n",
       "      <td>4293.0</td>\n",
       "    </tr>\n",
       "    <tr>\n",
       "      <th>death_count</th>\n",
       "      <td>76.0</td>\n",
       "      <td>7.263158</td>\n",
       "      <td>5.664788</td>\n",
       "      <td>0.0</td>\n",
       "      <td>4.00</td>\n",
       "      <td>6.0</td>\n",
       "      <td>10.0</td>\n",
       "      <td>38.0</td>\n",
       "    </tr>\n",
       "  </tbody>\n",
       "</table>\n",
       "</div>"
      ],
      "text/plain": [
       "                 count          mean           std   min      25%      50%  \\\n",
       "cases_cum_count   76.0  20364.434211  16085.899160  80.0  3854.00  21804.0   \n",
       "new_case_count    76.0    793.907895    769.483206  73.0   302.75    612.0   \n",
       "death_count       76.0      7.263158      5.664788   0.0     4.00      6.0   \n",
       "\n",
       "                     75%      max  \n",
       "cases_cum_count  30370.0  60337.0  \n",
       "new_case_count     860.5   4293.0  \n",
       "death_count         10.0     38.0  "
      ]
     },
     "execution_count": 19,
     "metadata": {},
     "output_type": "execute_result"
    }
   ],
   "source": [
    "df[['cases_cum_count', 'new_case_count', 'death_count']].describe().T"
   ]
  },
  {
   "cell_type": "markdown",
   "metadata": {},
   "source": [
    "<br><br>\n",
    "### 6. Death Count By Age Bracket\n",
    "---"
   ]
  },
  {
   "cell_type": "code",
   "execution_count": 20,
   "metadata": {},
   "outputs": [],
   "source": [
    "## ***DO NOT RUN THIS CELL ***\n",
    "\n",
    "## Tried to calculate Death Count (by Age Bracket) from Death Percentage by Age Bracket, but didn't get an accurate number\n",
    "## For example, when we convert the percentage from column 'death_20_39' to a real number in column 'death_count_20_39',\n",
    "## we get a decimal number lower than 1. This is not possible, since this column represent the number of people who \n",
    "## died from COVID-19 in that age bracket. Since the \"real\" number in each row is lower than 0.5, \n",
    "## it becomes zero when we round it. This is not a correct number. Then when we add up all the numbers in that \n",
    "## column, we still got zero. When I compare this number with the mecknc.gov reports numbers for 20-39 age bracket, \n",
    "## they don't match.\n",
    "\n",
    "## Calculating Death Count by Age bracket from 'death_count' and columns with death percentage per age bracket\n",
    "## Death percentage by age bracket data available since May 6 report\n",
    "\n",
    "# df[['date', 'death_count', 'death_0_19', 'death_20_39', 'death_40_59', 'death_60_plus']].head()\n",
    "\n",
    "# df['death_count_0_19'] = ((df['death_count'] * df['death_0_19'])/100).round()\n",
    "# df['death_count_20_39'] = ((df['death_count'] * df['death_20_39'])/100) #.round()\n",
    "# df['death_count_40_59'] = ((df['death_count'] * df['death_40_59'])/100).round()\n",
    "# df['death_count_60_plus'] = ((df['death_count'] * df['death_60_plus'])/100).round()\n",
    "\n",
    "# df[['date', 'death_count', 'death_count_0_19', 'death_20_39', 'death_count_20_39', 'death_40_59', 'death_count_40_59', 'death_60_plus', 'death_count_60_plus']].head()\n"
   ]
  },
  {
   "cell_type": "code",
   "execution_count": 21,
   "metadata": {},
   "outputs": [
    {
     "data": {
      "text/html": [
       "<div>\n",
       "<style scoped>\n",
       "    .dataframe tbody tr th:only-of-type {\n",
       "        vertical-align: middle;\n",
       "    }\n",
       "\n",
       "    .dataframe tbody tr th {\n",
       "        vertical-align: top;\n",
       "    }\n",
       "\n",
       "    .dataframe thead th {\n",
       "        text-align: right;\n",
       "    }\n",
       "</style>\n",
       "<table border=\"1\" class=\"dataframe\">\n",
       "  <thead>\n",
       "    <tr style=\"text-align: right;\">\n",
       "      <th></th>\n",
       "      <th>date</th>\n",
       "      <th>death_cum_count</th>\n",
       "      <th>death_count</th>\n",
       "      <th>death_0_19_count</th>\n",
       "      <th>death_20_39_count</th>\n",
       "      <th>death_40_59_count</th>\n",
       "      <th>death_60_plus_count</th>\n",
       "    </tr>\n",
       "  </thead>\n",
       "  <tbody>\n",
       "    <tr>\n",
       "      <th>71</th>\n",
       "      <td>2020-12-09</td>\n",
       "      <td>481</td>\n",
       "      <td>4</td>\n",
       "      <td>0</td>\n",
       "      <td>0</td>\n",
       "      <td>0</td>\n",
       "      <td>4</td>\n",
       "    </tr>\n",
       "    <tr>\n",
       "      <th>72</th>\n",
       "      <td>2020-12-13</td>\n",
       "      <td>487</td>\n",
       "      <td>6</td>\n",
       "      <td>0</td>\n",
       "      <td>1</td>\n",
       "      <td>1</td>\n",
       "      <td>4</td>\n",
       "    </tr>\n",
       "    <tr>\n",
       "      <th>73</th>\n",
       "      <td>2020-12-16</td>\n",
       "      <td>502</td>\n",
       "      <td>15</td>\n",
       "      <td>0</td>\n",
       "      <td>1</td>\n",
       "      <td>2</td>\n",
       "      <td>12</td>\n",
       "    </tr>\n",
       "    <tr>\n",
       "      <th>74</th>\n",
       "      <td>2020-12-20</td>\n",
       "      <td>514</td>\n",
       "      <td>12</td>\n",
       "      <td>0</td>\n",
       "      <td>0</td>\n",
       "      <td>0</td>\n",
       "      <td>12</td>\n",
       "    </tr>\n",
       "    <tr>\n",
       "      <th>75</th>\n",
       "      <td>2020-12-27</td>\n",
       "      <td>552</td>\n",
       "      <td>38</td>\n",
       "      <td>0</td>\n",
       "      <td>0</td>\n",
       "      <td>1</td>\n",
       "      <td>37</td>\n",
       "    </tr>\n",
       "  </tbody>\n",
       "</table>\n",
       "</div>"
      ],
      "text/plain": [
       "         date  death_cum_count  death_count  death_0_19_count  \\\n",
       "71 2020-12-09              481            4                 0   \n",
       "72 2020-12-13              487            6                 0   \n",
       "73 2020-12-16              502           15                 0   \n",
       "74 2020-12-20              514           12                 0   \n",
       "75 2020-12-27              552           38                 0   \n",
       "\n",
       "    death_20_39_count  death_40_59_count  death_60_plus_count  \n",
       "71                  0                  0                    4  \n",
       "72                  1                  1                    4  \n",
       "73                  1                  2                   12  \n",
       "74                  0                  0                   12  \n",
       "75                  0                  1                   37  "
      ]
     },
     "execution_count": 21,
     "metadata": {},
     "output_type": "execute_result"
    }
   ],
   "source": [
    "## calculating death_count by age brackets from the cumulative death by age bracket columns: 'death_0_19_cum_count', 'death_20_39_cum_count', 'death_40_59_cum_count' columns\n",
    "\n",
    "# 'death_20_39_cum_count', 'death_40_59_cum_count'\n",
    "# df['death_count'] = pd.Series(df['death_cum_count'].values).diff(periods=1).fillna(0).astype(int)\n",
    "# df[['date', 'death_cum_count', 'death_count']]\n",
    "\n",
    "df['death_20_39_count'] = pd.Series(df['death_20_39_cum_count'].values).diff(periods=1).fillna(0).astype(int)\n",
    "df['death_40_59_count'] = pd.Series(df['death_40_59_cum_count'].values).diff(periods=1).fillna(0).astype(int)\n",
    "df['death_0_19_count'] = pd.Series(df['death_0_19_cum_count'].values).diff(periods=1).fillna(0).astype(int)\n",
    "df['death_60_plus_count'] = df['death_count']- (df['death_20_39_count'] + df['death_40_59_count'])\n",
    "\n",
    "df[['date', 'death_cum_count','death_count', 'death_0_19_count', 'death_20_39_count', 'death_40_59_count', 'death_60_plus_count']].tail()"
   ]
  },
  {
   "cell_type": "markdown",
   "metadata": {},
   "source": [
    "### 6.1 Total Death Count by Age Bracket\n",
    "Age bracket 60+ has remained, by far, the bracket with the highest number of COVID deaths."
   ]
  },
  {
   "cell_type": "code",
   "execution_count": 22,
   "metadata": {},
   "outputs": [
    {
     "data": {
      "text/html": [
       "<div>\n",
       "<style scoped>\n",
       "    .dataframe tbody tr th:only-of-type {\n",
       "        vertical-align: middle;\n",
       "    }\n",
       "\n",
       "    .dataframe tbody tr th {\n",
       "        vertical-align: top;\n",
       "    }\n",
       "\n",
       "    .dataframe thead th {\n",
       "        text-align: right;\n",
       "    }\n",
       "</style>\n",
       "<table border=\"1\" class=\"dataframe\">\n",
       "  <thead>\n",
       "    <tr style=\"text-align: right;\">\n",
       "      <th></th>\n",
       "      <th>Death Count</th>\n",
       "    </tr>\n",
       "  </thead>\n",
       "  <tbody>\n",
       "    <tr>\n",
       "      <th>death_0_19_count</th>\n",
       "      <td>0</td>\n",
       "    </tr>\n",
       "    <tr>\n",
       "      <th>death_20_39_count</th>\n",
       "      <td>7</td>\n",
       "    </tr>\n",
       "    <tr>\n",
       "      <th>death_40_59_count</th>\n",
       "      <td>68</td>\n",
       "    </tr>\n",
       "    <tr>\n",
       "      <th>death_60_plus_count</th>\n",
       "      <td>477</td>\n",
       "    </tr>\n",
       "  </tbody>\n",
       "</table>\n",
       "</div>"
      ],
      "text/plain": [
       "                     Death Count\n",
       "death_0_19_count               0\n",
       "death_20_39_count              7\n",
       "death_40_59_count             68\n",
       "death_60_plus_count          477"
      ]
     },
     "execution_count": 22,
     "metadata": {},
     "output_type": "execute_result"
    }
   ],
   "source": [
    "## adding up death count columns to get the total count per age bracket\n",
    "# df[['death_0_19_count','death_20_39_count', 'death_40_59_count', 'death_60_plus_count']].sum()\n",
    "\n",
    "## or:\n",
    "# df.loc[:, ['death_0_19_count','death_20_39_count', 'death_40_59_count', 'death_60_plus_count']].sum()\n",
    "# df.filter(like=\"death\").sum() ##to filter columns that have the word \"death\" in it\n",
    "## adding up (sum) certain columns: ## https://stackoverflow.com/questions/65408336/getting-the-total-for-some-columns-independently-in-a-data-frame-with-python?noredirect=1#comment115639116_65408336\n",
    "\n",
    "## adding up columns and putting it in a datagrame \n",
    "total_death_by_age = pd.DataFrame(df[['death_0_19_count','death_20_39_count', 'death_40_59_count', 'death_60_plus_count']].sum(), columns = ['Death Count'])\n",
    "\n",
    "# total_death_by_age = total_death_by_age.T\n",
    "# total_death_by_age['Total'] = total_death_by_age.sum(axis =1)\n",
    "total_death_by_age"
   ]
  },
  {
   "cell_type": "code",
   "execution_count": 23,
   "metadata": {},
   "outputs": [
    {
     "data": {
      "text/plain": [
       "[0, 7, 68, 477]"
      ]
     },
     "execution_count": 23,
     "metadata": {},
     "output_type": "execute_result"
    }
   ],
   "source": [
    "PLOT_VALS = total_death_by_age['Death Count'].tolist()\n",
    "PLOT_VALS"
   ]
  },
  {
   "cell_type": "code",
   "execution_count": 24,
   "metadata": {},
   "outputs": [
    {
     "name": "stdout",
     "output_type": "stream",
     "text": [
      "bar 0, y=0, bar+some height in chart like 0.5\n",
      "bar 1, y=7, bar+some height in chart like 7.5\n",
      "bar 2, y=68, bar+some height in chart like 68.5\n",
      "bar 3, y=477, bar+some height in chart like 477.5\n"
     ]
    }
   ],
   "source": [
    "for i in range(len(PLOT_VALS)):\n",
    "    print(f\"bar {i}, y={PLOT_VALS[i]}, bar+some height in chart like {PLOT_VALS[i]+.5}\")"
   ]
  },
  {
   "cell_type": "code",
   "execution_count": 25,
   "metadata": {},
   "outputs": [
    {
     "name": "stdout",
     "output_type": "stream",
     "text": [
      "0 0\n",
      "1 7\n",
      "2 68\n",
      "3 477\n"
     ]
    }
   ],
   "source": [
    "## Enumerating values in PLOT_VALS to get the index too\n",
    "## 'idx' is the index and 'label' is the value of each row\n",
    "for idx, label in enumerate(PLOT_VALS):\n",
    "    print(idx, label)"
   ]
  },
  {
   "cell_type": "code",
   "execution_count": 26,
   "metadata": {},
   "outputs": [
    {
     "data": {
      "image/png": "[encoded data removed]",
      "text/plain": [
       "<Figure size 576x432 with 1 Axes>"
      ]
     },
     "metadata": {
      "needs_background": "light"
     },
     "output_type": "display_data"
    }
   ],
   "source": [
    "## Plotting total dead by age bracket\n",
    "ax = total_death_by_age.plot(kind='bar',\n",
    "                                      cmap='Blues_r',\n",
    "                                      rot=0,\n",
    "                                      figsize=(8,6), \n",
    "                                     title = 'COVID-19 Total Death Count by Age Bracket')\n",
    "ax.set_xticklabels(['0-19', '20-39', '40-59', '60+']);\n",
    "ax.set_xlabel('Age Brackets')\n",
    "\n",
    "for idx, label in enumerate(PLOT_VALS):\n",
    "    value = label\n",
    "    ax.annotate(value,\n",
    "                (idx, value),\n",
    "                xytext=(-5, 4), \n",
    "                textcoords='offset points')\n",
    "\n",
    "## *****NEED TO ADD TABLE NEXT TO CHART*****\n",
    "plt.show()"
   ]
  },
  {
   "cell_type": "markdown",
   "metadata": {},
   "source": [
    "### 6.2 "
   ]
  },
  {
   "cell_type": "code",
   "execution_count": 27,
   "metadata": {},
   "outputs": [
    {
     "data": {
      "image/png": "[encoded data removed]",
      "text/plain": [
       "<Figure size 1080x432 with 1 Axes>"
      ]
     },
     "metadata": {
      "needs_background": "light"
     },
     "output_type": "display_data"
    }
   ],
   "source": [
    "## Plotting covid-19 death count by age bracket throughout 2020\n",
    "pt_death_ct_age = df.plot(x='date', \n",
    "                                 y=['death_0_19_count', 'death_20_39_count', 'death_40_59_count', 'death_60_plus_count'], \n",
    "                                 figsize=(15,6), \n",
    "                                 title='COVID-19 Death Count by Age Bracket')"
   ]
  },
  {
   "cell_type": "markdown",
   "metadata": {},
   "source": [
    "<br>\n",
    "\n",
    "### 6.3 Monthly Death Count by Age Bracket"
   ]
  },
  {
   "cell_type": "code",
   "execution_count": 28,
   "metadata": {},
   "outputs": [
    {
     "data": {
      "text/html": [
       "<div>\n",
       "<style scoped>\n",
       "    .dataframe tbody tr th:only-of-type {\n",
       "        vertical-align: middle;\n",
       "    }\n",
       "\n",
       "    .dataframe tbody tr th {\n",
       "        vertical-align: top;\n",
       "    }\n",
       "\n",
       "    .dataframe thead th {\n",
       "        text-align: right;\n",
       "    }\n",
       "</style>\n",
       "<table border=\"1\" class=\"dataframe\">\n",
       "  <thead>\n",
       "    <tr style=\"text-align: right;\">\n",
       "      <th></th>\n",
       "      <th>death_0_19_count</th>\n",
       "      <th>death_20_39_count</th>\n",
       "      <th>death_40_59_count</th>\n",
       "      <th>death_60_plus_count</th>\n",
       "    </tr>\n",
       "    <tr>\n",
       "      <th>date</th>\n",
       "      <th></th>\n",
       "      <th></th>\n",
       "      <th></th>\n",
       "      <th></th>\n",
       "    </tr>\n",
       "  </thead>\n",
       "  <tbody>\n",
       "    <tr>\n",
       "      <th>2020-03-31</th>\n",
       "      <td>0</td>\n",
       "      <td>0</td>\n",
       "      <td>0</td>\n",
       "      <td>1</td>\n",
       "    </tr>\n",
       "    <tr>\n",
       "      <th>2020-04-30</th>\n",
       "      <td>0</td>\n",
       "      <td>0</td>\n",
       "      <td>3</td>\n",
       "      <td>42</td>\n",
       "    </tr>\n",
       "    <tr>\n",
       "      <th>2020-05-31</th>\n",
       "      <td>0</td>\n",
       "      <td>0</td>\n",
       "      <td>3</td>\n",
       "      <td>44</td>\n",
       "    </tr>\n",
       "    <tr>\n",
       "      <th>2020-06-30</th>\n",
       "      <td>0</td>\n",
       "      <td>0</td>\n",
       "      <td>12</td>\n",
       "      <td>46</td>\n",
       "    </tr>\n",
       "    <tr>\n",
       "      <th>2020-07-31</th>\n",
       "      <td>0</td>\n",
       "      <td>3</td>\n",
       "      <td>9</td>\n",
       "      <td>38</td>\n",
       "    </tr>\n",
       "    <tr>\n",
       "      <th>2020-08-31</th>\n",
       "      <td>0</td>\n",
       "      <td>1</td>\n",
       "      <td>13</td>\n",
       "      <td>80</td>\n",
       "    </tr>\n",
       "    <tr>\n",
       "      <th>2020-09-30</th>\n",
       "      <td>0</td>\n",
       "      <td>0</td>\n",
       "      <td>7</td>\n",
       "      <td>58</td>\n",
       "    </tr>\n",
       "    <tr>\n",
       "      <th>2020-10-31</th>\n",
       "      <td>0</td>\n",
       "      <td>0</td>\n",
       "      <td>5</td>\n",
       "      <td>25</td>\n",
       "    </tr>\n",
       "    <tr>\n",
       "      <th>2020-11-30</th>\n",
       "      <td>0</td>\n",
       "      <td>1</td>\n",
       "      <td>10</td>\n",
       "      <td>53</td>\n",
       "    </tr>\n",
       "    <tr>\n",
       "      <th>2020-12-31</th>\n",
       "      <td>0</td>\n",
       "      <td>2</td>\n",
       "      <td>6</td>\n",
       "      <td>90</td>\n",
       "    </tr>\n",
       "  </tbody>\n",
       "</table>\n",
       "</div>"
      ],
      "text/plain": [
       "            death_0_19_count  death_20_39_count  death_40_59_count  \\\n",
       "date                                                                 \n",
       "2020-03-31                 0                  0                  0   \n",
       "2020-04-30                 0                  0                  3   \n",
       "2020-05-31                 0                  0                  3   \n",
       "2020-06-30                 0                  0                 12   \n",
       "2020-07-31                 0                  3                  9   \n",
       "2020-08-31                 0                  1                 13   \n",
       "2020-09-30                 0                  0                  7   \n",
       "2020-10-31                 0                  0                  5   \n",
       "2020-11-30                 0                  1                 10   \n",
       "2020-12-31                 0                  2                  6   \n",
       "\n",
       "            death_60_plus_count  \n",
       "date                             \n",
       "2020-03-31                    1  \n",
       "2020-04-30                   42  \n",
       "2020-05-31                   44  \n",
       "2020-06-30                   46  \n",
       "2020-07-31                   38  \n",
       "2020-08-31                   80  \n",
       "2020-09-30                   58  \n",
       "2020-10-31                   25  \n",
       "2020-11-30                   53  \n",
       "2020-12-31                   90  "
      ]
     },
     "execution_count": 28,
     "metadata": {},
     "output_type": "execute_result"
    }
   ],
   "source": [
    "## calculating monthly death count by age bracket\n",
    "\n",
    "dead_monthly = df.resample('M', on='date')['death_0_19_count', 'death_20_39_count', 'death_40_59_count', 'death_60_plus_count'].sum()\n",
    "dead_monthly"
   ]
  },
  {
   "cell_type": "code",
   "execution_count": 29,
   "metadata": {},
   "outputs": [
    {
     "data": {
      "text/plain": [
       "[]"
      ]
     },
     "execution_count": 29,
     "metadata": {},
     "output_type": "execute_result"
    },
    {
     "data": {
      "image/png": "[encoded data removed]",
      "text/plain": [
       "<Figure size 1080x576 with 1 Axes>"
      ]
     },
     "metadata": {
      "needs_background": "light"
     },
     "output_type": "display_data"
    }
   ],
   "source": [
    "## Plotting  monthly Death count by age bracket \n",
    "## using cmap for changing colors in graphics. add '_r' to the end of the color to reverse palette\n",
    "cmap = cm.get_cmap('Blues')\n",
    "ax = dead_monthly.plot(kind='bar', \n",
    "                          figsize=(15,8),\n",
    "                          cmap='viridis_r',\n",
    "                          table=True,\n",
    "                          width=0.5,\n",
    "                          stacked=True,\n",
    "                          title='COVID-19 Death Count by Age Bracket in Mecklenburg County')\n",
    "ax.set_xticks([])\n",
    "\n",
    "# ax.set_xticklabels(dead_monthly.index.strftime('%Y-%m'));\n",
    "## *** NEED TO MAKE TABLE MORE READABLE ****"
   ]
  },
  {
   "cell_type": "code",
   "execution_count": 30,
   "metadata": {},
   "outputs": [],
   "source": [
    "# stacked percentage chart\n",
    "# https://python-graph-gallery.com/13-percent-stacked-barplot/\n",
    "\n"
   ]
  },
  {
   "cell_type": "code",
   "execution_count": 31,
   "metadata": {},
   "outputs": [],
   "source": [
    "## Percent difference of 0-19\n",
    "\n",
    "# diff_kernel = np.array([1,-1])\n",
    "# np.convolve(df['0-19_new'],diff_kernel ,'same')\n",
    "\n",
    "# df['0-9_new_diff'] = pd.Series(df['0-19_new'].values).diff(periods=1)\n",
    "\n",
    "# np.convolve(df['death_0_19'], diff_kernel, 'same')\n",
    "# df['death_0_19_diff'] = pd.Series(df['death_0_19'].values).diff(periods=1)\n",
    "\n",
    "# np.convolve(df['death_60_plus'], diff_kernel, 'same')\n",
    "# df['death_60_plus_diff'] = pd.Series(df['death_60_plus'].values).diff(periods=1)"
   ]
  },
  {
   "cell_type": "markdown",
   "metadata": {},
   "source": [
    "<br><br><br>\n",
    "\n",
    "### 7. Other Underlying Illness Conditions\n",
    "---"
   ]
  },
  {
   "cell_type": "code",
   "execution_count": 32,
   "metadata": {},
   "outputs": [
    {
     "data": {
      "text/html": [
       "<div>\n",
       "<style scoped>\n",
       "    .dataframe tbody tr th:only-of-type {\n",
       "        vertical-align: middle;\n",
       "    }\n",
       "\n",
       "    .dataframe tbody tr th {\n",
       "        vertical-align: top;\n",
       "    }\n",
       "\n",
       "    .dataframe thead th {\n",
       "        text-align: right;\n",
       "    }\n",
       "</style>\n",
       "<table border=\"1\" class=\"dataframe\">\n",
       "  <thead>\n",
       "    <tr style=\"text-align: right;\">\n",
       "      <th></th>\n",
       "      <th>date</th>\n",
       "      <th>no_other_ill_cum_count</th>\n",
       "      <th>no_other_illness_count</th>\n",
       "    </tr>\n",
       "  </thead>\n",
       "  <tbody>\n",
       "    <tr>\n",
       "      <th>71</th>\n",
       "      <td>2020-12-09</td>\n",
       "      <td>7</td>\n",
       "      <td>0</td>\n",
       "    </tr>\n",
       "    <tr>\n",
       "      <th>72</th>\n",
       "      <td>2020-12-13</td>\n",
       "      <td>8</td>\n",
       "      <td>1</td>\n",
       "    </tr>\n",
       "    <tr>\n",
       "      <th>73</th>\n",
       "      <td>2020-12-16</td>\n",
       "      <td>8</td>\n",
       "      <td>0</td>\n",
       "    </tr>\n",
       "    <tr>\n",
       "      <th>74</th>\n",
       "      <td>2020-12-20</td>\n",
       "      <td>8</td>\n",
       "      <td>0</td>\n",
       "    </tr>\n",
       "    <tr>\n",
       "      <th>75</th>\n",
       "      <td>2020-12-27</td>\n",
       "      <td>10</td>\n",
       "      <td>2</td>\n",
       "    </tr>\n",
       "  </tbody>\n",
       "</table>\n",
       "</div>"
      ],
      "text/plain": [
       "         date  no_other_ill_cum_count  no_other_illness_count\n",
       "71 2020-12-09                       7                       0\n",
       "72 2020-12-13                       8                       1\n",
       "73 2020-12-16                       8                       0\n",
       "74 2020-12-20                       8                       0\n",
       "75 2020-12-27                      10                       2"
      ]
     },
     "execution_count": 32,
     "metadata": {},
     "output_type": "execute_result"
    }
   ],
   "source": [
    "## calculating no other illness count column\n",
    "df['no_other_illness_count'] = pd.Series(df['no_other_ill_cum_count'].values).diff(periods=1).fillna(0).astype(int)\n",
    "df[['date', 'no_other_ill_cum_count','no_other_illness_count']].tail()\n",
    "\n",
    "## or?:\n",
    "# np.convolve(df['no_other_ill_cum_count'], diff_kernel, 'same')"
   ]
  },
  {
   "cell_type": "code",
   "execution_count": 33,
   "metadata": {},
   "outputs": [
    {
     "data": {
      "text/html": [
       "<div>\n",
       "<style scoped>\n",
       "    .dataframe tbody tr th:only-of-type {\n",
       "        vertical-align: middle;\n",
       "    }\n",
       "\n",
       "    .dataframe tbody tr th {\n",
       "        vertical-align: top;\n",
       "    }\n",
       "\n",
       "    .dataframe thead th {\n",
       "        text-align: right;\n",
       "    }\n",
       "</style>\n",
       "<table border=\"1\" class=\"dataframe\">\n",
       "  <thead>\n",
       "    <tr style=\"text-align: right;\">\n",
       "      <th></th>\n",
       "      <th>death_count</th>\n",
       "      <th>no_other_illness_count</th>\n",
       "      <th>other_illness_count</th>\n",
       "    </tr>\n",
       "  </thead>\n",
       "  <tbody>\n",
       "    <tr>\n",
       "      <th>71</th>\n",
       "      <td>4</td>\n",
       "      <td>0</td>\n",
       "      <td>4</td>\n",
       "    </tr>\n",
       "    <tr>\n",
       "      <th>72</th>\n",
       "      <td>6</td>\n",
       "      <td>1</td>\n",
       "      <td>5</td>\n",
       "    </tr>\n",
       "    <tr>\n",
       "      <th>73</th>\n",
       "      <td>15</td>\n",
       "      <td>0</td>\n",
       "      <td>15</td>\n",
       "    </tr>\n",
       "    <tr>\n",
       "      <th>74</th>\n",
       "      <td>12</td>\n",
       "      <td>0</td>\n",
       "      <td>12</td>\n",
       "    </tr>\n",
       "    <tr>\n",
       "      <th>75</th>\n",
       "      <td>38</td>\n",
       "      <td>2</td>\n",
       "      <td>36</td>\n",
       "    </tr>\n",
       "  </tbody>\n",
       "</table>\n",
       "</div>"
      ],
      "text/plain": [
       "    death_count  no_other_illness_count  other_illness_count\n",
       "71            4                       0                    4\n",
       "72            6                       1                    5\n",
       "73           15                       0                   15\n",
       "74           12                       0                   12\n",
       "75           38                       2                   36"
      ]
     },
     "execution_count": 33,
     "metadata": {},
     "output_type": "execute_result"
    }
   ],
   "source": [
    "## calculating the number of people that did die with other undelying illness conditions\n",
    "# df[['death_count','no_other_illness_count']]\n",
    "df['other_illness_count'] = df['death_count'] - df['no_other_illness_count']\n",
    "df[['death_count','no_other_illness_count', 'other_illness_count']].tail()"
   ]
  },
  {
   "cell_type": "markdown",
   "metadata": {},
   "source": [
    "### 7.1 Monthly Deaths With and Without Underlying Illness Conditions"
   ]
  },
  {
   "cell_type": "code",
   "execution_count": 34,
   "metadata": {},
   "outputs": [
    {
     "data": {
      "text/html": [
       "<div>\n",
       "<style scoped>\n",
       "    .dataframe tbody tr th:only-of-type {\n",
       "        vertical-align: middle;\n",
       "    }\n",
       "\n",
       "    .dataframe tbody tr th {\n",
       "        vertical-align: top;\n",
       "    }\n",
       "\n",
       "    .dataframe thead th {\n",
       "        text-align: right;\n",
       "    }\n",
       "</style>\n",
       "<table border=\"1\" class=\"dataframe\">\n",
       "  <thead>\n",
       "    <tr style=\"text-align: right;\">\n",
       "      <th></th>\n",
       "      <th>no_other_illness_count</th>\n",
       "      <th>other_illness_count</th>\n",
       "    </tr>\n",
       "    <tr>\n",
       "      <th>date</th>\n",
       "      <th></th>\n",
       "      <th></th>\n",
       "    </tr>\n",
       "  </thead>\n",
       "  <tbody>\n",
       "    <tr>\n",
       "      <th>2020-03-01</th>\n",
       "      <td>0</td>\n",
       "      <td>1</td>\n",
       "    </tr>\n",
       "    <tr>\n",
       "      <th>2020-04-01</th>\n",
       "      <td>0</td>\n",
       "      <td>45</td>\n",
       "    </tr>\n",
       "    <tr>\n",
       "      <th>2020-05-01</th>\n",
       "      <td>1</td>\n",
       "      <td>46</td>\n",
       "    </tr>\n",
       "    <tr>\n",
       "      <th>2020-06-01</th>\n",
       "      <td>1</td>\n",
       "      <td>57</td>\n",
       "    </tr>\n",
       "    <tr>\n",
       "      <th>2020-07-01</th>\n",
       "      <td>1</td>\n",
       "      <td>49</td>\n",
       "    </tr>\n",
       "    <tr>\n",
       "      <th>2020-08-01</th>\n",
       "      <td>0</td>\n",
       "      <td>94</td>\n",
       "    </tr>\n",
       "    <tr>\n",
       "      <th>2020-09-01</th>\n",
       "      <td>2</td>\n",
       "      <td>63</td>\n",
       "    </tr>\n",
       "    <tr>\n",
       "      <th>2020-10-01</th>\n",
       "      <td>0</td>\n",
       "      <td>30</td>\n",
       "    </tr>\n",
       "    <tr>\n",
       "      <th>2020-11-01</th>\n",
       "      <td>2</td>\n",
       "      <td>62</td>\n",
       "    </tr>\n",
       "    <tr>\n",
       "      <th>2020-12-01</th>\n",
       "      <td>3</td>\n",
       "      <td>95</td>\n",
       "    </tr>\n",
       "  </tbody>\n",
       "</table>\n",
       "</div>"
      ],
      "text/plain": [
       "            no_other_illness_count  other_illness_count\n",
       "date                                                   \n",
       "2020-03-01                       0                    1\n",
       "2020-04-01                       0                   45\n",
       "2020-05-01                       1                   46\n",
       "2020-06-01                       1                   57\n",
       "2020-07-01                       1                   49\n",
       "2020-08-01                       0                   94\n",
       "2020-09-01                       2                   63\n",
       "2020-10-01                       0                   30\n",
       "2020-11-01                       2                   62\n",
       "2020-12-01                       3                   95"
      ]
     },
     "execution_count": 34,
     "metadata": {},
     "output_type": "execute_result"
    }
   ],
   "source": [
    "## calculating montly number for death count with underlying conditions\n",
    "other_illness_monthly = df.resample('MS', on='date')['no_other_illness_count', 'other_illness_count'].sum()\n",
    "other_illness_monthly"
   ]
  },
  {
   "cell_type": "code",
   "execution_count": 35,
   "metadata": {
    "scrolled": false
   },
   "outputs": [
    {
     "data": {
      "image/png": "[encoded data removed]",
      "text/plain": [
       "<Figure size 1080x648 with 1 Axes>"
      ]
     },
     "metadata": {
      "needs_background": "light"
     },
     "output_type": "display_data"
    }
   ],
   "source": [
    "ax_other_illness = other_illness_monthly.plot(figsize=(15,9), \n",
    "                                              kind='bar',\n",
    "                                              ylim=(0,100),\n",
    "                                              title='\\n\\nCOVID-19 Death Count with Underlying Chronic Illnesses vs No Other Underlying Illness Conditions')\n",
    "ax_other_illness.set_xticklabels(other_illness_monthly.index.strftime('%Y-%m'));"
   ]
  },
  {
   "cell_type": "markdown",
   "metadata": {},
   "source": [
    "### 7.2 Total Death Percentage and Count With and Withouth Other Underlying Illness Conditions"
   ]
  },
  {
   "cell_type": "code",
   "execution_count": 36,
   "metadata": {},
   "outputs": [
    {
     "data": {
      "text/html": [
       "<div>\n",
       "<style scoped>\n",
       "    .dataframe tbody tr th:only-of-type {\n",
       "        vertical-align: middle;\n",
       "    }\n",
       "\n",
       "    .dataframe tbody tr th {\n",
       "        vertical-align: top;\n",
       "    }\n",
       "\n",
       "    .dataframe thead th {\n",
       "        text-align: right;\n",
       "    }\n",
       "</style>\n",
       "<table border=\"1\" class=\"dataframe\">\n",
       "  <thead>\n",
       "    <tr style=\"text-align: right;\">\n",
       "      <th></th>\n",
       "      <th>death_count</th>\n",
       "      <th>no_other_illness_count</th>\n",
       "      <th>no_other_illness_pct</th>\n",
       "      <th>other_illness_pct</th>\n",
       "    </tr>\n",
       "  </thead>\n",
       "  <tbody>\n",
       "    <tr>\n",
       "      <th>0</th>\n",
       "      <td>0</td>\n",
       "      <td>0</td>\n",
       "      <td>0.0</td>\n",
       "      <td>0.0</td>\n",
       "    </tr>\n",
       "    <tr>\n",
       "      <th>1</th>\n",
       "      <td>0</td>\n",
       "      <td>0</td>\n",
       "      <td>0.0</td>\n",
       "      <td>0.0</td>\n",
       "    </tr>\n",
       "    <tr>\n",
       "      <th>2</th>\n",
       "      <td>1</td>\n",
       "      <td>0</td>\n",
       "      <td>0.0</td>\n",
       "      <td>100.0</td>\n",
       "    </tr>\n",
       "    <tr>\n",
       "      <th>3</th>\n",
       "      <td>2</td>\n",
       "      <td>0</td>\n",
       "      <td>0.0</td>\n",
       "      <td>100.0</td>\n",
       "    </tr>\n",
       "    <tr>\n",
       "      <th>4</th>\n",
       "      <td>4</td>\n",
       "      <td>0</td>\n",
       "      <td>0.0</td>\n",
       "      <td>100.0</td>\n",
       "    </tr>\n",
       "  </tbody>\n",
       "</table>\n",
       "</div>"
      ],
      "text/plain": [
       "   death_count  no_other_illness_count  no_other_illness_pct  \\\n",
       "0            0                       0                   0.0   \n",
       "1            0                       0                   0.0   \n",
       "2            1                       0                   0.0   \n",
       "3            2                       0                   0.0   \n",
       "4            4                       0                   0.0   \n",
       "\n",
       "   other_illness_pct  \n",
       "0                0.0  \n",
       "1                0.0  \n",
       "2              100.0  \n",
       "3              100.0  \n",
       "4              100.0  "
      ]
     },
     "execution_count": 36,
     "metadata": {},
     "output_type": "execute_result"
    }
   ],
   "source": [
    "## total count and total percentage of Death with and without other underlying illness conditions\n",
    "# df[['no_other_illness_count', 'other_illness_count']].sum()\n",
    "df['no_other_illness_pct'] = ((df['no_other_illness_count'] * 100)/df['death_count']).round(1).fillna(0)\n",
    "df['other_illness_pct'] = ((df['other_illness_count'] * 100)/df['death_count']).round(1).fillna(0)\n",
    "df[['death_count', 'no_other_illness_count','no_other_illness_pct', 'other_illness_pct']].head()\n"
   ]
  },
  {
   "cell_type": "code",
   "execution_count": 37,
   "metadata": {},
   "outputs": [
    {
     "data": {
      "text/html": [
       "<div>\n",
       "<style scoped>\n",
       "    .dataframe tbody tr th:only-of-type {\n",
       "        vertical-align: middle;\n",
       "    }\n",
       "\n",
       "    .dataframe tbody tr th {\n",
       "        vertical-align: top;\n",
       "    }\n",
       "\n",
       "    .dataframe thead th {\n",
       "        text-align: right;\n",
       "    }\n",
       "</style>\n",
       "<table border=\"1\" class=\"dataframe\">\n",
       "  <thead>\n",
       "    <tr style=\"text-align: right;\">\n",
       "      <th></th>\n",
       "      <th>count</th>\n",
       "      <th>percent</th>\n",
       "    </tr>\n",
       "  </thead>\n",
       "  <tbody>\n",
       "    <tr>\n",
       "      <th>no_other</th>\n",
       "      <td>10</td>\n",
       "      <td>1.8</td>\n",
       "    </tr>\n",
       "    <tr>\n",
       "      <th>other</th>\n",
       "      <td>542</td>\n",
       "      <td>98.2</td>\n",
       "    </tr>\n",
       "  </tbody>\n",
       "</table>\n",
       "</div>"
      ],
      "text/plain": [
       "          count  percent\n",
       "no_other     10      1.8\n",
       "other       542     98.2"
      ]
     },
     "execution_count": 37,
     "metadata": {},
     "output_type": "execute_result"
    }
   ],
   "source": [
    "## creating a df for the totals\n",
    "## total percentage death underlying illness\n",
    "\n",
    "data = [{'count':df['no_other_illness_count'].sum(), 'percent':((df['no_other_illness_count'].sum() * 100)/df['death_count'].sum()).round(1)},\n",
    "       {'count':df['other_illness_count'].sum(), 'percent':((df['other_illness_count'].sum() * 100)/df['death_count'].sum()).round(1)}]\n",
    "total_death_illness = pd.DataFrame(data, index = ['no_other', 'other'])\n",
    "\n",
    "total_death_illness"
   ]
  },
  {
   "cell_type": "code",
   "execution_count": 38,
   "metadata": {},
   "outputs": [],
   "source": [
    "##**** NEED TO PLOT total_death_illness AS A TABLE NEXT TO THE CHART ABOVE*****  \n",
    "# ax = total_death_illness.plot(figsize=(3,3))\n",
    "# pd.plotting.table(ax, total_death_illness)"
   ]
  }
 ],
 "metadata": {
  "kernelspec": {
   "display_name": "Python 3",
   "language": "python",
   "name": "python3"
  },
  "language_info": {
   "codemirror_mode": {
    "name": "ipython",
    "version": 3
   },
   "file_extension": ".py",
   "mimetype": "text/x-python",
   "name": "python",
   "nbconvert_exporter": "python",
   "pygments_lexer": "ipython3",
   "version": "3.7.3"
  }
 },
 "nbformat": 4,
 "nbformat_minor": 2
}

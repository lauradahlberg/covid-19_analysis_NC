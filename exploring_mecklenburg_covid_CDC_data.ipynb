{
 "cells": [
  {
   "cell_type": "markdown",
   "metadata": {},
   "source": [
    "# EDA of Covid data for Mecklenburg County\n",
    "---\n",
    "** WORK IN PROGRESS **\n",
    "- Author: Laura Dahlberg\n",
    "- Created on: January 8, 2021\n",
    "\n",
    "### About the Data:\n",
    "This dataset was based on the \"Centers for Disease Control and Prevention, COVID-19 Response. COVID-19 Case Surveillance Data Access, Summary, and Limitations (version 12-31-2020)\" To access this dataset you need to request permission from the [CDC](https://data.cdc.gov/Case-Surveillance/COVID-19-Case-Surveillance-Restricted-Access-Detai/mbd7-r32t) <br>\n",
    "<br>\n",
    "CDC disclosure: \"The CDC does not take responsibility for the scientific validity or accuracy of methodology, results, statistical analyses, or conclusions presented.\" "
   ]
  },
  {
   "cell_type": "code",
   "execution_count": 1,
   "metadata": {},
   "outputs": [],
   "source": [
    "import shutil\n",
    "import datetime\n",
    "from dateutil import relativedelta\n",
    "import pandas as pd\n",
    "from pathlib import Path\n",
    "import numpy as np\n",
    "import seaborn as sns\n",
    "import matplotlib.pyplot as plt\n",
    "import matplotlib.dates as mdates\n",
    "import matplotlib.ticker as mtick\n",
    "from matplotlib import cm\n",
    "%matplotlib inline"
   ]
  },
  {
   "cell_type": "code",
   "execution_count": 2,
   "metadata": {},
   "outputs": [
    {
     "name": "stdout",
     "output_type": "stream",
     "text": [
      "ROOT = .\n",
      "DATA = data\n",
      "IMAGES = images\n"
     ]
    }
   ],
   "source": [
    "ROOT = Path(\"./\")\n",
    "DATA = ROOT/'data'\n",
    "IMAGES = ROOT/'images'\n",
    "# [f for f in ROOT.iterdir()]\n",
    "# [f for f in DATA.iterdir()]\n",
    "\n",
    "print('ROOT =', ROOT)\n",
    "print('DATA =', DATA)\n",
    "print('IMAGES =', IMAGES)"
   ]
  },
  {
   "cell_type": "code",
   "execution_count": 3,
   "metadata": {
    "scrolled": true
   },
   "outputs": [
    {
     "name": "stdout",
     "output_type": "stream",
     "text": [
      " Volume in drive C has no label.\n",
      " Volume Serial Number is FCBC-A9FB\n",
      "\n",
      " Directory of C:\\Users\\laura\\covid-19\\covid-19_analysis_NC\\data\n",
      "\n",
      "01/08/2021  08:20 PM    <DIR>          .\n",
      "01/08/2021  08:20 PM    <DIR>          ..\n",
      "01/07/2021  10:10 PM        15,318,162 MECK_COVID_Cases_Restricted_Detailed_12312020.csv\n",
      "01/08/2021  06:56 PM             8,024 weekly_covid19_report_mecknc.csv\n",
      "               2 File(s)     15,326,186 bytes\n",
      "               2 Dir(s)  282,330,394,624 bytes free\n"
     ]
    }
   ],
   "source": [
    "%ls {DATA}"
   ]
  },
  {
   "cell_type": "markdown",
   "metadata": {},
   "source": [
    "### 0. Reading File"
   ]
  },
  {
   "cell_type": "code",
   "execution_count": 4,
   "metadata": {},
   "outputs": [
    {
     "name": "stdout",
     "output_type": "stream",
     "text": [
      "<class 'pandas.core.frame.DataFrame'>\n",
      "RangeIndex: 55801 entries, 0 to 55800\n",
      "Data columns (total 32 columns):\n",
      "race_ethnicity_combined    55645 non-null object\n",
      "current_status             55801 non-null object\n",
      "cdc_case_earliest_dt       55801 non-null object\n",
      "cdc_report_dt              55801 non-null object\n",
      "sex                        55767 non-null object\n",
      "onset_dt                   22927 non-null object\n",
      "pos_spec_dt                55784 non-null object\n",
      "hosp_yn                    55801 non-null object\n",
      "icu_yn                     55801 non-null object\n",
      "death_yn                   55801 non-null object\n",
      "hc_work_yn                 55586 non-null object\n",
      "pna_yn                     55801 non-null object\n",
      "abxchest_yn                55801 non-null object\n",
      "acuterespdistress_yn       55801 non-null object\n",
      "mechvent_yn                55801 non-null object\n",
      "fever_yn                   55801 non-null object\n",
      "sfever_yn                  55801 non-null object\n",
      "chills_yn                  55801 non-null object\n",
      "myalgia_yn                 55801 non-null object\n",
      "runnose_yn                 55801 non-null object\n",
      "sthroat_yn                 55801 non-null object\n",
      "cough_yn                   55801 non-null object\n",
      "sob_yn                     55801 non-null object\n",
      "nauseavomit_yn             55801 non-null object\n",
      "headache_yn                55801 non-null object\n",
      "abdom_yn                   55801 non-null object\n",
      "diarrhea_yn                55801 non-null object\n",
      "medcond_yn                 55801 non-null object\n",
      "county_fips_code           55801 non-null float64\n",
      "res_county                 55801 non-null object\n",
      "res_state                  55801 non-null object\n",
      "age_group                  55785 non-null object\n",
      "dtypes: float64(1), object(31)\n",
      "memory usage: 13.6+ MB\n"
     ]
    }
   ],
   "source": [
    "df = pd.read_csv(DATA/'MECK_COVID_Cases_Restricted_Detailed_12312020.csv')\n",
    "pd.set_option('display.max_columns', None)\n",
    "df.info()"
   ]
  },
  {
   "cell_type": "markdown",
   "metadata": {},
   "source": [
    "### Looking at the Data\n",
    "\n",
    "This is one row of the data to get an idea of what I'm working with."
   ]
  },
  {
   "cell_type": "code",
   "execution_count": 5,
   "metadata": {},
   "outputs": [],
   "source": [
    "# df.head(1).T"
   ]
  },
  {
   "cell_type": "markdown",
   "metadata": {},
   "source": [
    "### Totals Covid Outcomes - All Ages\n",
    "Deaths and Survivals"
   ]
  },
  {
   "cell_type": "code",
   "execution_count": 6,
   "metadata": {},
   "outputs": [
    {
     "data": {
      "text/html": [
       "<div>\n",
       "<style scoped>\n",
       "    .dataframe tbody tr th:only-of-type {\n",
       "        vertical-align: middle;\n",
       "    }\n",
       "\n",
       "    .dataframe tbody tr th {\n",
       "        vertical-align: top;\n",
       "    }\n",
       "\n",
       "    .dataframe thead th {\n",
       "        text-align: right;\n",
       "    }\n",
       "</style>\n",
       "<table border=\"1\" class=\"dataframe\">\n",
       "  <thead>\n",
       "    <tr style=\"text-align: right;\">\n",
       "      <th></th>\n",
       "      <th>count</th>\n",
       "      <th>percentage</th>\n",
       "      <th>label</th>\n",
       "    </tr>\n",
       "  </thead>\n",
       "  <tbody>\n",
       "    <tr>\n",
       "      <th>Surv</th>\n",
       "      <td>55238</td>\n",
       "      <td>98.99</td>\n",
       "      <td>55238\\n(98.99%)</td>\n",
       "    </tr>\n",
       "    <tr>\n",
       "      <th>Deaths</th>\n",
       "      <td>544</td>\n",
       "      <td>0.97</td>\n",
       "      <td>544\\n(0.97%)</td>\n",
       "    </tr>\n",
       "    <tr>\n",
       "      <th>Missing</th>\n",
       "      <td>18</td>\n",
       "      <td>0.03</td>\n",
       "      <td>18\\n(0.03%)</td>\n",
       "    </tr>\n",
       "    <tr>\n",
       "      <th>Unknown</th>\n",
       "      <td>1</td>\n",
       "      <td>0.00</td>\n",
       "      <td>1\\n(0.0%)</td>\n",
       "    </tr>\n",
       "  </tbody>\n",
       "</table>\n",
       "</div>"
      ],
      "text/plain": [
       "         count  percentage            label\n",
       "Surv     55238       98.99  55238\\n(98.99%)\n",
       "Deaths     544        0.97     544\\n(0.97%)\n",
       "Missing     18        0.03      18\\n(0.03%)\n",
       "Unknown      1        0.00        1\\n(0.0%)"
      ]
     },
     "execution_count": 6,
     "metadata": {},
     "output_type": "execute_result"
    }
   ],
   "source": [
    "## Total Deaths and Survivals\n",
    "total_d = pd.DataFrame(df['death_yn'].value_counts())\n",
    "total_d['percentage']= df['death_yn'].value_counts(normalize=True).round(4)*(100)\n",
    "total_d = total_d.rename(columns={'death_yn': 'count'}, index={'No': 'Surv', 'Yes': 'Deaths'})\n",
    "## this column will be used to create chart labels next/above bars\n",
    "total_d['label'] = total_d['count'].astype(str) + \"\\n(\" + total_d['percentage'].astype(str) + \"%)\"\n",
    "total_d"
   ]
  },
  {
   "cell_type": "code",
   "execution_count": 7,
   "metadata": {},
   "outputs": [
    {
     "data": {
      "image/png": "[encoded data removed]",
      "text/plain": [
       "<Figure size 576x432 with 1 Axes>"
      ]
     },
     "metadata": {
      "needs_background": "light"
     },
     "output_type": "display_data"
    }
   ],
   "source": [
    "# perc_val #.sort_values('count', ascending=True)\\\n",
    "ax = total_d.plot(y=['count'], kind='barh',\n",
    "                  legend=False,\n",
    "                  figsize=(8,6),\n",
    "                  title='\\n\\nCOVID-18 Cases Outcomes in Mecklenburg County - 2020')\n",
    "\n",
    "# text for chart\n",
    "label_per = [s for s in total_d['label']]\n",
    "#print(label_per) # like ['55238, 98.99%', '544, 0.97%', '18, 0.03%', '1, 0.0%']\n",
    "\n",
    "# ax = total_d.barh(y=['count'], kind='bar',\n",
    "#                   figsize=(8,6),\n",
    "#                  rot=0,\n",
    "#                  title='\\n\\nCOVID Deaths and Survivals - All Ages')\n",
    "ax.set_yticklabels(['Survivals', 'Deaths', 'Missing', 'Unknown'])\n",
    "ax.set_xlabel('Count')\n",
    "\n",
    "# Hide the right and top spines\n",
    "ax.spines['right'].set_visible(False)\n",
    "ax.spines['top'].set_visible(False)\n",
    "\n",
    "## Add labels next to bars - count and percentage\n",
    "for i, p in enumerate(ax.patches):\n",
    "    #print(i, f'{label_per[i]}', p)\n",
    "    ax.text(p.get_width()+1, p.get_y()+.1, str(f'{label_per[i]}'), fontsize=10)\n",
    "\n",
    "## Save chart as png file https://stackoverflow.com/questions/33616557/barplot-savefig-returning-an-attributeerror\n",
    "ax.figure.savefig(IMAGES/'cases_outcomes_meck.png' )"
   ]
  },
  {
   "cell_type": "code",
   "execution_count": 15,
   "metadata": {},
   "outputs": [],
   "source": [
    "## ***TO DO ADD COUNT AND PERCENT LABEL TO BARCHART ***\n",
    "## check out: https://stackoverflow.com/questions/61718127/add-percent-and-count-values-to-each-bar-in-pandas-barplot\n",
    "## and: https://plotnine.readthedocs.io/en/stable/tutorials/miscellaneous-show-counts-and-percentages-for-bar-plots.html"
   ]
  },
  {
   "cell_type": "markdown",
   "metadata": {},
   "source": [
    "### Total Deaths and Survivals by Age Group\n",
    "---\n"
   ]
  },
  {
   "cell_type": "code",
   "execution_count": 8,
   "metadata": {},
   "outputs": [
    {
     "data": {
      "text/html": [
       "<div>\n",
       "<style scoped>\n",
       "    .dataframe tbody tr th:only-of-type {\n",
       "        vertical-align: middle;\n",
       "    }\n",
       "\n",
       "    .dataframe tbody tr th {\n",
       "        vertical-align: top;\n",
       "    }\n",
       "\n",
       "    .dataframe thead th {\n",
       "        text-align: right;\n",
       "    }\n",
       "</style>\n",
       "<table border=\"1\" class=\"dataframe\">\n",
       "  <thead>\n",
       "    <tr style=\"text-align: right;\">\n",
       "      <th>death_yn</th>\n",
       "      <th>Missing</th>\n",
       "      <th>surv</th>\n",
       "      <th>Unknown</th>\n",
       "      <th>deaths</th>\n",
       "      <th>total</th>\n",
       "    </tr>\n",
       "    <tr>\n",
       "      <th>age_group</th>\n",
       "      <th></th>\n",
       "      <th></th>\n",
       "      <th></th>\n",
       "      <th></th>\n",
       "      <th></th>\n",
       "    </tr>\n",
       "  </thead>\n",
       "  <tbody>\n",
       "    <tr>\n",
       "      <th>0 - 9 Years</th>\n",
       "      <td>1</td>\n",
       "      <td>2904</td>\n",
       "      <td>0</td>\n",
       "      <td>0</td>\n",
       "      <td>2905</td>\n",
       "    </tr>\n",
       "    <tr>\n",
       "      <th>10 - 19 Years</th>\n",
       "      <td>4</td>\n",
       "      <td>5715</td>\n",
       "      <td>0</td>\n",
       "      <td>0</td>\n",
       "      <td>5719</td>\n",
       "    </tr>\n",
       "    <tr>\n",
       "      <th>20 - 29 Years</th>\n",
       "      <td>8</td>\n",
       "      <td>13493</td>\n",
       "      <td>1</td>\n",
       "      <td>2</td>\n",
       "      <td>13504</td>\n",
       "    </tr>\n",
       "    <tr>\n",
       "      <th>30 - 39 Years</th>\n",
       "      <td>2</td>\n",
       "      <td>10749</td>\n",
       "      <td>0</td>\n",
       "      <td>3</td>\n",
       "      <td>10754</td>\n",
       "    </tr>\n",
       "    <tr>\n",
       "      <th>40 - 49 Years</th>\n",
       "      <td>0</td>\n",
       "      <td>8701</td>\n",
       "      <td>0</td>\n",
       "      <td>22</td>\n",
       "      <td>8723</td>\n",
       "    </tr>\n",
       "    <tr>\n",
       "      <th>50 - 59 Years</th>\n",
       "      <td>1</td>\n",
       "      <td>7015</td>\n",
       "      <td>0</td>\n",
       "      <td>46</td>\n",
       "      <td>7062</td>\n",
       "    </tr>\n",
       "    <tr>\n",
       "      <th>60 - 69 Years</th>\n",
       "      <td>1</td>\n",
       "      <td>3800</td>\n",
       "      <td>0</td>\n",
       "      <td>70</td>\n",
       "      <td>3871</td>\n",
       "    </tr>\n",
       "    <tr>\n",
       "      <th>70 - 79 Years</th>\n",
       "      <td>1</td>\n",
       "      <td>1754</td>\n",
       "      <td>0</td>\n",
       "      <td>145</td>\n",
       "      <td>1900</td>\n",
       "    </tr>\n",
       "    <tr>\n",
       "      <th>80+ Years</th>\n",
       "      <td>0</td>\n",
       "      <td>1091</td>\n",
       "      <td>0</td>\n",
       "      <td>256</td>\n",
       "      <td>1347</td>\n",
       "    </tr>\n",
       "  </tbody>\n",
       "</table>\n",
       "</div>"
      ],
      "text/plain": [
       "death_yn       Missing   surv  Unknown  deaths  total\n",
       "age_group                                            \n",
       "0 - 9 Years          1   2904        0       0   2905\n",
       "10 - 19 Years        4   5715        0       0   5719\n",
       "20 - 29 Years        8  13493        1       2  13504\n",
       "30 - 39 Years        2  10749        0       3  10754\n",
       "40 - 49 Years        0   8701        0      22   8723\n",
       "50 - 59 Years        1   7015        0      46   7062\n",
       "60 - 69 Years        1   3800        0      70   3871\n",
       "70 - 79 Years        1   1754        0     145   1900\n",
       "80+ Years            0   1091        0     256   1347"
      ]
     },
     "execution_count": 8,
     "metadata": {},
     "output_type": "execute_result"
    }
   ],
   "source": [
    "## totals by age group (tba)\n",
    "tba = df.groupby(['age_group','death_yn'])['death_yn'].count().unstack().fillna(0) #.reset_index()\n",
    "#dba.index.rename('index', inplace=True)\n",
    "tba = tba.rename(columns = {'No': 'surv', 'Yes':'deaths'})\n",
    "tba[['Missing', 'surv', 'Unknown', 'deaths']] = tba[['Missing', 'surv', 'Unknown', 'deaths']].astype(int)\n",
    "## Add Grand total\n",
    "tba['total'] = tba[['Missing', 'surv', 'Unknown', 'deaths']].sum(axis=1).astype(int)\n",
    "tba.reset_index()\n",
    "tba"
   ]
  },
  {
   "cell_type": "code",
   "execution_count": 9,
   "metadata": {},
   "outputs": [],
   "source": [
    "## TO DO ##\n",
    "## scatter plot death count by age -- maybe different colors for underlying conditions\n",
    "## check out https://seaborn.pydata.org/generated/seaborn.stripplot.html\n"
   ]
  },
  {
   "cell_type": "code",
   "execution_count": 10,
   "metadata": {},
   "outputs": [
    {
     "data": {
      "text/html": [
       "<div>\n",
       "<style scoped>\n",
       "    .dataframe tbody tr th:only-of-type {\n",
       "        vertical-align: middle;\n",
       "    }\n",
       "\n",
       "    .dataframe tbody tr th {\n",
       "        vertical-align: top;\n",
       "    }\n",
       "\n",
       "    .dataframe thead th {\n",
       "        text-align: right;\n",
       "    }\n",
       "</style>\n",
       "<table border=\"1\" class=\"dataframe\">\n",
       "  <thead>\n",
       "    <tr style=\"text-align: right;\">\n",
       "      <th>death_yn</th>\n",
       "      <th>age_group</th>\n",
       "      <th>Missing</th>\n",
       "      <th>surv</th>\n",
       "      <th>Unknown</th>\n",
       "      <th>deaths</th>\n",
       "      <th>total</th>\n",
       "      <th>y</th>\n",
       "    </tr>\n",
       "  </thead>\n",
       "  <tbody>\n",
       "    <tr>\n",
       "      <th>0</th>\n",
       "      <td>0 - 9 Years</td>\n",
       "      <td>5.6</td>\n",
       "      <td>5.3</td>\n",
       "      <td>0.0</td>\n",
       "      <td>0.0</td>\n",
       "      <td>5.2</td>\n",
       "      <td>0</td>\n",
       "    </tr>\n",
       "    <tr>\n",
       "      <th>1</th>\n",
       "      <td>10 - 19 Years</td>\n",
       "      <td>22.2</td>\n",
       "      <td>10.3</td>\n",
       "      <td>0.0</td>\n",
       "      <td>0.0</td>\n",
       "      <td>10.3</td>\n",
       "      <td>0</td>\n",
       "    </tr>\n",
       "    <tr>\n",
       "      <th>2</th>\n",
       "      <td>20 - 29 Years</td>\n",
       "      <td>44.4</td>\n",
       "      <td>24.4</td>\n",
       "      <td>100.0</td>\n",
       "      <td>0.4</td>\n",
       "      <td>24.2</td>\n",
       "      <td>0</td>\n",
       "    </tr>\n",
       "    <tr>\n",
       "      <th>3</th>\n",
       "      <td>30 - 39 Years</td>\n",
       "      <td>11.1</td>\n",
       "      <td>19.5</td>\n",
       "      <td>0.0</td>\n",
       "      <td>0.6</td>\n",
       "      <td>19.3</td>\n",
       "      <td>0</td>\n",
       "    </tr>\n",
       "    <tr>\n",
       "      <th>4</th>\n",
       "      <td>40 - 49 Years</td>\n",
       "      <td>0.0</td>\n",
       "      <td>15.8</td>\n",
       "      <td>0.0</td>\n",
       "      <td>4.0</td>\n",
       "      <td>15.6</td>\n",
       "      <td>0</td>\n",
       "    </tr>\n",
       "    <tr>\n",
       "      <th>5</th>\n",
       "      <td>50 - 59 Years</td>\n",
       "      <td>5.6</td>\n",
       "      <td>12.7</td>\n",
       "      <td>0.0</td>\n",
       "      <td>8.5</td>\n",
       "      <td>12.7</td>\n",
       "      <td>0</td>\n",
       "    </tr>\n",
       "    <tr>\n",
       "      <th>6</th>\n",
       "      <td>60 - 69 Years</td>\n",
       "      <td>5.6</td>\n",
       "      <td>6.9</td>\n",
       "      <td>0.0</td>\n",
       "      <td>12.9</td>\n",
       "      <td>6.9</td>\n",
       "      <td>0</td>\n",
       "    </tr>\n",
       "    <tr>\n",
       "      <th>7</th>\n",
       "      <td>70 - 79 Years</td>\n",
       "      <td>5.6</td>\n",
       "      <td>3.2</td>\n",
       "      <td>0.0</td>\n",
       "      <td>26.7</td>\n",
       "      <td>3.4</td>\n",
       "      <td>0</td>\n",
       "    </tr>\n",
       "    <tr>\n",
       "      <th>8</th>\n",
       "      <td>80+ Years</td>\n",
       "      <td>0.0</td>\n",
       "      <td>2.0</td>\n",
       "      <td>0.0</td>\n",
       "      <td>47.1</td>\n",
       "      <td>2.4</td>\n",
       "      <td>0</td>\n",
       "    </tr>\n",
       "  </tbody>\n",
       "</table>\n",
       "</div>"
      ],
      "text/plain": [
       "death_yn      age_group  Missing  surv  Unknown  deaths  total  y\n",
       "0           0 - 9 Years      5.6   5.3      0.0     0.0    5.2  0\n",
       "1         10 - 19 Years     22.2  10.3      0.0     0.0   10.3  0\n",
       "2         20 - 29 Years     44.4  24.4    100.0     0.4   24.2  0\n",
       "3         30 - 39 Years     11.1  19.5      0.0     0.6   19.3  0\n",
       "4         40 - 49 Years      0.0  15.8      0.0     4.0   15.6  0\n",
       "5         50 - 59 Years      5.6  12.7      0.0     8.5   12.7  0\n",
       "6         60 - 69 Years      5.6   6.9      0.0    12.9    6.9  0\n",
       "7         70 - 79 Years      5.6   3.2      0.0    26.7    3.4  0\n",
       "8             80+ Years      0.0   2.0      0.0    47.1    2.4  0"
      ]
     },
     "execution_count": 10,
     "metadata": {},
     "output_type": "execute_result"
    }
   ],
   "source": [
    "## percentage for one group from all ages (tba_p)\n",
    "\n",
    "tba_p = (tba*100/tba.sum()).round(1).reset_index()\n",
    "tba_p[\"y\"] = 0\n",
    "tba_p\n",
    "# tba_p.dtypes"
   ]
  },
  {
   "cell_type": "code",
   "execution_count": 11,
   "metadata": {},
   "outputs": [
    {
     "data": {
      "text/plain": [
       "[0.0, 0.0, 0.4, 0.6, 4.0, 8.5, 12.9, 26.7, 47.1]"
      ]
     },
     "execution_count": 11,
     "metadata": {},
     "output_type": "execute_result"
    }
   ],
   "source": [
    "vals = tba_p['deaths'].tolist()\n",
    "vals"
   ]
  },
  {
   "cell_type": "code",
   "execution_count": 12,
   "metadata": {},
   "outputs": [
    {
     "data": {
      "image/png": "[encoded data removed]",
      "text/plain": [
       "<Figure size 1440x648 with 1 Axes>"
      ]
     },
     "metadata": {
      "needs_background": "light"
     },
     "output_type": "display_data"
    }
   ],
   "source": [
    "##*** NEED TO FIND BETTER GRAPH FOR THIS DATA ***\n",
    "##plotting comparison of deaths percentages by age group \n",
    "\n",
    "ax = tba_p.plot(x='age_group', y=['deaths'], legend=False,\n",
    "                kind='bar',\n",
    "                figsize=(20,9),\n",
    "                rot=0,\n",
    "                title= '\\n\\nDeaths Percentage by Age Group Out of all Deaths')\n",
    "\n",
    "for idx, label in enumerate(vals):\n",
    "    value = label\n",
    "    ax.annotate(value,\n",
    "               (idx, value),\n",
    "               xytext=(-10, 4),\n",
    "               textcoords='offset points')\n",
    "\n",
    "    \n",
    "ax.yaxis.set_major_formatter(mtick.PercentFormatter())\n",
    "ax.set_xticklabels(['0-9', '10-19', '20-29', '30-39', '40-49', '50-59', '60-69', '70-79', '80+']);\n",
    "ax.legend(['Death %']);"
   ]
  },
  {
   "cell_type": "code",
   "execution_count": 13,
   "metadata": {},
   "outputs": [
    {
     "data": {
      "text/plain": [
       "<matplotlib.collections.PathCollection at 0x1d62c004710>"
      ]
     },
     "execution_count": 13,
     "metadata": {},
     "output_type": "execute_result"
    },
    {
     "data": {
      "image/png": "[encoded data removed]",
      "text/plain": [
       "<Figure size 1440x648 with 1 Axes>"
      ]
     },
     "metadata": {
      "needs_background": "light"
     },
     "output_type": "display_data"
    }
   ],
   "source": [
    "x = tba_p.index\n",
    "y = tba_p['y']\n",
    "z = tba_p['deaths']\n",
    "plt.figure(figsize=(20,9))\n",
    "plt.scatter(x=x, y=y, s=z*100, alpha=0.5)\n"
   ]
  },
  {
   "cell_type": "markdown",
   "metadata": {},
   "source": [
    "### Deaths Percentage by Age\n"
   ]
  },
  {
   "cell_type": "code",
   "execution_count": 15,
   "metadata": {},
   "outputs": [
    {
     "data": {
      "text/html": [
       "<div>\n",
       "<style scoped>\n",
       "    .dataframe tbody tr th:only-of-type {\n",
       "        vertical-align: middle;\n",
       "    }\n",
       "\n",
       "    .dataframe tbody tr th {\n",
       "        vertical-align: top;\n",
       "    }\n",
       "\n",
       "    .dataframe thead th {\n",
       "        text-align: right;\n",
       "    }\n",
       "</style>\n",
       "<table border=\"1\" class=\"dataframe\">\n",
       "  <thead>\n",
       "    <tr style=\"text-align: right;\">\n",
       "      <th>death_yn</th>\n",
       "      <th>age_group</th>\n",
       "      <th>Missing</th>\n",
       "      <th>surv</th>\n",
       "      <th>Unknown</th>\n",
       "      <th>deaths</th>\n",
       "      <th>total</th>\n",
       "      <th>miss_p</th>\n",
       "      <th>surv_p</th>\n",
       "      <th>unkn_p</th>\n",
       "      <th>dths_p</th>\n",
       "      <th>totl_p</th>\n",
       "    </tr>\n",
       "  </thead>\n",
       "  <tbody>\n",
       "    <tr>\n",
       "      <th>0</th>\n",
       "      <td>0 - 9 Years</td>\n",
       "      <td>1</td>\n",
       "      <td>2904</td>\n",
       "      <td>0</td>\n",
       "      <td>0</td>\n",
       "      <td>2905</td>\n",
       "      <td>0.0</td>\n",
       "      <td>100.0</td>\n",
       "      <td>0.0</td>\n",
       "      <td>0.0</td>\n",
       "      <td>100.0</td>\n",
       "    </tr>\n",
       "    <tr>\n",
       "      <th>1</th>\n",
       "      <td>10 - 19 Years</td>\n",
       "      <td>4</td>\n",
       "      <td>5715</td>\n",
       "      <td>0</td>\n",
       "      <td>0</td>\n",
       "      <td>5719</td>\n",
       "      <td>0.1</td>\n",
       "      <td>99.9</td>\n",
       "      <td>0.0</td>\n",
       "      <td>0.0</td>\n",
       "      <td>100.0</td>\n",
       "    </tr>\n",
       "    <tr>\n",
       "      <th>2</th>\n",
       "      <td>20 - 29 Years</td>\n",
       "      <td>8</td>\n",
       "      <td>13493</td>\n",
       "      <td>1</td>\n",
       "      <td>2</td>\n",
       "      <td>13504</td>\n",
       "      <td>0.1</td>\n",
       "      <td>99.9</td>\n",
       "      <td>0.0</td>\n",
       "      <td>0.0</td>\n",
       "      <td>100.0</td>\n",
       "    </tr>\n",
       "    <tr>\n",
       "      <th>3</th>\n",
       "      <td>30 - 39 Years</td>\n",
       "      <td>2</td>\n",
       "      <td>10749</td>\n",
       "      <td>0</td>\n",
       "      <td>3</td>\n",
       "      <td>10754</td>\n",
       "      <td>0.0</td>\n",
       "      <td>100.0</td>\n",
       "      <td>0.0</td>\n",
       "      <td>0.0</td>\n",
       "      <td>100.0</td>\n",
       "    </tr>\n",
       "    <tr>\n",
       "      <th>4</th>\n",
       "      <td>40 - 49 Years</td>\n",
       "      <td>0</td>\n",
       "      <td>8701</td>\n",
       "      <td>0</td>\n",
       "      <td>22</td>\n",
       "      <td>8723</td>\n",
       "      <td>0.0</td>\n",
       "      <td>99.7</td>\n",
       "      <td>0.0</td>\n",
       "      <td>0.3</td>\n",
       "      <td>100.0</td>\n",
       "    </tr>\n",
       "    <tr>\n",
       "      <th>5</th>\n",
       "      <td>50 - 59 Years</td>\n",
       "      <td>1</td>\n",
       "      <td>7015</td>\n",
       "      <td>0</td>\n",
       "      <td>46</td>\n",
       "      <td>7062</td>\n",
       "      <td>0.0</td>\n",
       "      <td>99.3</td>\n",
       "      <td>0.0</td>\n",
       "      <td>0.7</td>\n",
       "      <td>100.0</td>\n",
       "    </tr>\n",
       "    <tr>\n",
       "      <th>6</th>\n",
       "      <td>60 - 69 Years</td>\n",
       "      <td>1</td>\n",
       "      <td>3800</td>\n",
       "      <td>0</td>\n",
       "      <td>70</td>\n",
       "      <td>3871</td>\n",
       "      <td>0.0</td>\n",
       "      <td>98.2</td>\n",
       "      <td>0.0</td>\n",
       "      <td>1.8</td>\n",
       "      <td>100.0</td>\n",
       "    </tr>\n",
       "    <tr>\n",
       "      <th>7</th>\n",
       "      <td>70 - 79 Years</td>\n",
       "      <td>1</td>\n",
       "      <td>1754</td>\n",
       "      <td>0</td>\n",
       "      <td>145</td>\n",
       "      <td>1900</td>\n",
       "      <td>0.1</td>\n",
       "      <td>92.3</td>\n",
       "      <td>0.0</td>\n",
       "      <td>7.6</td>\n",
       "      <td>100.0</td>\n",
       "    </tr>\n",
       "    <tr>\n",
       "      <th>8</th>\n",
       "      <td>80+ Years</td>\n",
       "      <td>0</td>\n",
       "      <td>1091</td>\n",
       "      <td>0</td>\n",
       "      <td>256</td>\n",
       "      <td>1347</td>\n",
       "      <td>0.0</td>\n",
       "      <td>81.0</td>\n",
       "      <td>0.0</td>\n",
       "      <td>19.0</td>\n",
       "      <td>100.0</td>\n",
       "    </tr>\n",
       "  </tbody>\n",
       "</table>\n",
       "</div>"
      ],
      "text/plain": [
       "death_yn      age_group  Missing   surv  Unknown  deaths  total  miss_p  \\\n",
       "0           0 - 9 Years        1   2904        0       0   2905     0.0   \n",
       "1         10 - 19 Years        4   5715        0       0   5719     0.1   \n",
       "2         20 - 29 Years        8  13493        1       2  13504     0.1   \n",
       "3         30 - 39 Years        2  10749        0       3  10754     0.0   \n",
       "4         40 - 49 Years        0   8701        0      22   8723     0.0   \n",
       "5         50 - 59 Years        1   7015        0      46   7062     0.0   \n",
       "6         60 - 69 Years        1   3800        0      70   3871     0.0   \n",
       "7         70 - 79 Years        1   1754        0     145   1900     0.1   \n",
       "8             80+ Years        0   1091        0     256   1347     0.0   \n",
       "\n",
       "death_yn  surv_p  unkn_p  dths_p  totl_p  \n",
       "0          100.0     0.0     0.0   100.0  \n",
       "1           99.9     0.0     0.0   100.0  \n",
       "2           99.9     0.0     0.0   100.0  \n",
       "3          100.0     0.0     0.0   100.0  \n",
       "4           99.7     0.0     0.3   100.0  \n",
       "5           99.3     0.0     0.7   100.0  \n",
       "6           98.2     0.0     1.8   100.0  \n",
       "7           92.3     0.0     7.6   100.0  \n",
       "8           81.0     0.0    19.0   100.0  "
      ]
     },
     "execution_count": 15,
     "metadata": {},
     "output_type": "execute_result"
    }
   ],
   "source": [
    "## renaming some columns for easy understanding\n",
    "tba = tba.rename(columns = {'No': 'surv', 'Yes':'deaths'}).reset_index()\n",
    "# tba\n",
    "# tba.dtypes\n",
    "\n",
    "## percentages for missing (miss_p) survival (surv_p),  unknown (unkn_p), deaths (dths_p), total (totl_p)\n",
    "## percentages by row, within each age group\n",
    "tba['miss_p'] = ((tba['Missing']*100)/tba['total']).round(1)\n",
    "tba['surv_p'] = ((tba['surv']*100)/tba['total']).round(1)\n",
    "tba['unkn_p'] = ((tba['Unknown']*100)/tba['total']).round(1)\n",
    "tba['dths_p'] = ((tba['deaths']*100)/tba['total']).round(1)\n",
    "tba['totl_p'] = (tba['total']*100)/tba['total']\n",
    "tba"
   ]
  },
  {
   "cell_type": "code",
   "execution_count": 16,
   "metadata": {},
   "outputs": [
    {
     "data": {
      "image/png": "[encoded data removed]",
      "text/plain": [
       "<Figure size 1440x648 with 1 Axes>"
      ]
     },
     "metadata": {
      "needs_background": "light"
     },
     "output_type": "display_data"
    }
   ],
   "source": [
    "## plotting \n",
    "ax = tba.plot(x='age_group', y=['surv_p', 'dths_p'],\n",
    "                kind='bar',\n",
    "                figsize=(20,9),\n",
    "                rot=0,\n",
    "                title= '\\n\\nDeaths vs Survivals Rate by Age Group\\n')\n",
    "\n",
    "for p in ax.patches:\n",
    "    width = p.get_width()\n",
    "    height = p.get_height()\n",
    "    x, y = p.get_xy()\n",
    "    ax.annotate(f'{height}%', (x + width/2, y + height*1.02), ha='center')\n",
    "    \n",
    "ax.yaxis.set_major_formatter(mtick.PercentFormatter())\n",
    "ax.set_xticklabels(['0-9', '10-19', '20-29', '30-39', '40-49', '50-59', '60-69', '70-79', '80+']);\n",
    "ax.legend(['Survival Rate', 'Death Rate']);\n",
    "## label group barchart: https://stackoverflow.com/questions/52080991/display-percentage-above-bar-chart-in-matplotlib\n"
   ]
  },
  {
   "cell_type": "code",
   "execution_count": 17,
   "metadata": {},
   "outputs": [
    {
     "data": {
      "text/html": [
       "<div>\n",
       "<style scoped>\n",
       "    .dataframe tbody tr th:only-of-type {\n",
       "        vertical-align: middle;\n",
       "    }\n",
       "\n",
       "    .dataframe tbody tr th {\n",
       "        vertical-align: top;\n",
       "    }\n",
       "\n",
       "    .dataframe thead th {\n",
       "        text-align: right;\n",
       "    }\n",
       "</style>\n",
       "<table border=\"1\" class=\"dataframe\">\n",
       "  <thead>\n",
       "    <tr style=\"text-align: right;\">\n",
       "      <th>death_yn</th>\n",
       "      <th>Missing</th>\n",
       "      <th>surv</th>\n",
       "      <th>Unknown</th>\n",
       "      <th>deaths</th>\n",
       "    </tr>\n",
       "  </thead>\n",
       "  <tbody>\n",
       "    <tr>\n",
       "      <th>0</th>\n",
       "      <td>18</td>\n",
       "      <td>55222</td>\n",
       "      <td>1</td>\n",
       "      <td>544</td>\n",
       "    </tr>\n",
       "  </tbody>\n",
       "</table>\n",
       "</div>"
      ],
      "text/plain": [
       "death_yn  Missing   surv  Unknown  deaths\n",
       "0              18  55222        1     544"
      ]
     },
     "execution_count": 17,
     "metadata": {},
     "output_type": "execute_result"
    }
   ],
   "source": [
    "## calculating and plotting  monthly Death percentage by age bracket \n",
    "# tba[['Missing', 'surv', 'Unknown', 'deaths']].sum().astype(int)\n",
    "\n",
    "## gettinga of each column\n",
    "total_counts = pd.DataFrame(tba[['Missing', 'surv', 'Unknown', 'deaths']].sum().astype(int)).T\n",
    "total_counts\n",
    "\n",
    "## getting percentages\n",
    "\n"
   ]
  },
  {
   "cell_type": "markdown",
   "metadata": {},
   "source": [
    "<br><br>\n",
    "\n",
    "### Deaths by Age Bracket\n",
    "---\n"
   ]
  },
  {
   "cell_type": "code",
   "execution_count": 18,
   "metadata": {},
   "outputs": [],
   "source": [
    "## Filtering rows where 'death_yn' is 'yes'\n",
    "deaths = df[(df['death_yn'].str.contains('Yes'))]\n",
    "# deaths.head()\n"
   ]
  },
  {
   "cell_type": "code",
   "execution_count": 19,
   "metadata": {},
   "outputs": [
    {
     "data": {
      "text/html": [
       "<div>\n",
       "<style scoped>\n",
       "    .dataframe tbody tr th:only-of-type {\n",
       "        vertical-align: middle;\n",
       "    }\n",
       "\n",
       "    .dataframe tbody tr th {\n",
       "        vertical-align: top;\n",
       "    }\n",
       "\n",
       "    .dataframe thead th {\n",
       "        text-align: right;\n",
       "    }\n",
       "</style>\n",
       "<table border=\"1\" class=\"dataframe\">\n",
       "  <thead>\n",
       "    <tr style=\"text-align: right;\">\n",
       "      <th>death_yn</th>\n",
       "      <th>age_group</th>\n",
       "      <th>Missing</th>\n",
       "      <th>No</th>\n",
       "      <th>Unknown</th>\n",
       "      <th>Yes</th>\n",
       "    </tr>\n",
       "  </thead>\n",
       "  <tbody>\n",
       "    <tr>\n",
       "      <th>0</th>\n",
       "      <td>0 - 9 Years</td>\n",
       "      <td>1.0</td>\n",
       "      <td>2904.0</td>\n",
       "      <td>0.0</td>\n",
       "      <td>0.0</td>\n",
       "    </tr>\n",
       "    <tr>\n",
       "      <th>1</th>\n",
       "      <td>10 - 19 Years</td>\n",
       "      <td>4.0</td>\n",
       "      <td>5715.0</td>\n",
       "      <td>0.0</td>\n",
       "      <td>0.0</td>\n",
       "    </tr>\n",
       "    <tr>\n",
       "      <th>2</th>\n",
       "      <td>20 - 29 Years</td>\n",
       "      <td>8.0</td>\n",
       "      <td>13493.0</td>\n",
       "      <td>1.0</td>\n",
       "      <td>2.0</td>\n",
       "    </tr>\n",
       "    <tr>\n",
       "      <th>3</th>\n",
       "      <td>30 - 39 Years</td>\n",
       "      <td>2.0</td>\n",
       "      <td>10749.0</td>\n",
       "      <td>0.0</td>\n",
       "      <td>3.0</td>\n",
       "    </tr>\n",
       "    <tr>\n",
       "      <th>4</th>\n",
       "      <td>40 - 49 Years</td>\n",
       "      <td>0.0</td>\n",
       "      <td>8701.0</td>\n",
       "      <td>0.0</td>\n",
       "      <td>22.0</td>\n",
       "    </tr>\n",
       "    <tr>\n",
       "      <th>5</th>\n",
       "      <td>50 - 59 Years</td>\n",
       "      <td>1.0</td>\n",
       "      <td>7015.0</td>\n",
       "      <td>0.0</td>\n",
       "      <td>46.0</td>\n",
       "    </tr>\n",
       "    <tr>\n",
       "      <th>6</th>\n",
       "      <td>60 - 69 Years</td>\n",
       "      <td>1.0</td>\n",
       "      <td>3800.0</td>\n",
       "      <td>0.0</td>\n",
       "      <td>70.0</td>\n",
       "    </tr>\n",
       "    <tr>\n",
       "      <th>7</th>\n",
       "      <td>70 - 79 Years</td>\n",
       "      <td>1.0</td>\n",
       "      <td>1754.0</td>\n",
       "      <td>0.0</td>\n",
       "      <td>145.0</td>\n",
       "    </tr>\n",
       "    <tr>\n",
       "      <th>8</th>\n",
       "      <td>80+ Years</td>\n",
       "      <td>0.0</td>\n",
       "      <td>1091.0</td>\n",
       "      <td>0.0</td>\n",
       "      <td>256.0</td>\n",
       "    </tr>\n",
       "  </tbody>\n",
       "</table>\n",
       "</div>"
      ],
      "text/plain": [
       "death_yn      age_group  Missing       No  Unknown    Yes\n",
       "0           0 - 9 Years      1.0   2904.0      0.0    0.0\n",
       "1         10 - 19 Years      4.0   5715.0      0.0    0.0\n",
       "2         20 - 29 Years      8.0  13493.0      1.0    2.0\n",
       "3         30 - 39 Years      2.0  10749.0      0.0    3.0\n",
       "4         40 - 49 Years      0.0   8701.0      0.0   22.0\n",
       "5         50 - 59 Years      1.0   7015.0      0.0   46.0\n",
       "6         60 - 69 Years      1.0   3800.0      0.0   70.0\n",
       "7         70 - 79 Years      1.0   1754.0      0.0  145.0\n",
       "8             80+ Years      0.0   1091.0      0.0  256.0"
      ]
     },
     "execution_count": 19,
     "metadata": {},
     "output_type": "execute_result"
    }
   ],
   "source": [
    "# total death by age\n",
    "dba = df.groupby(['age_group','death_yn'])['death_yn'].count().unstack().fillna(0).reset_index()\n",
    "#dba.index.rename('index', inplace=True)\n",
    "# dba['total'] = dba[['Missing', 'No', 'Unknown', 'Yes']].sum(axis=1)\n",
    "# dba['total'] = dba['Missing', 'No', 'Unknown', 'Yes']\n",
    "\n",
    "dba"
   ]
  },
  {
   "cell_type": "code",
   "execution_count": 20,
   "metadata": {},
   "outputs": [
    {
     "data": {
      "text/plain": [
       "80+ Years        0.470588\n",
       "70 - 79 Years    0.266544\n",
       "60 - 69 Years    0.128676\n",
       "50 - 59 Years    0.084559\n",
       "40 - 49 Years    0.040441\n",
       "30 - 39 Years    0.005515\n",
       "20 - 29 Years    0.003676\n",
       "Name: age_group, dtype: float64"
      ]
     },
     "execution_count": 20,
     "metadata": {},
     "output_type": "execute_result"
    }
   ],
   "source": [
    "deaths['age_group'].value_counts(normalize=True)"
   ]
  },
  {
   "cell_type": "code",
   "execution_count": 21,
   "metadata": {},
   "outputs": [
    {
     "data": {
      "text/plain": [
       "80+ Years        256\n",
       "70 - 79 Years    145\n",
       "60 - 69 Years     70\n",
       "50 - 59 Years     46\n",
       "40 - 49 Years     22\n",
       "30 - 39 Years      3\n",
       "20 - 29 Years      2\n",
       "Name: age_group, dtype: int64"
      ]
     },
     "execution_count": 21,
     "metadata": {},
     "output_type": "execute_result"
    }
   ],
   "source": [
    "deaths['age_group'].value_counts()"
   ]
  },
  {
   "cell_type": "markdown",
   "metadata": {},
   "source": [
    "### Underlying Medical Conditions\n",
    "---\n",
    "\n",
    "medcond_yn"
   ]
  },
  {
   "cell_type": "code",
   "execution_count": 22,
   "metadata": {
    "scrolled": true
   },
   "outputs": [
    {
     "data": {
      "text/html": [
       "<div>\n",
       "<style scoped>\n",
       "    .dataframe tbody tr th:only-of-type {\n",
       "        vertical-align: middle;\n",
       "    }\n",
       "\n",
       "    .dataframe tbody tr th {\n",
       "        vertical-align: top;\n",
       "    }\n",
       "\n",
       "    .dataframe thead th {\n",
       "        text-align: right;\n",
       "    }\n",
       "</style>\n",
       "<table border=\"1\" class=\"dataframe\">\n",
       "  <thead>\n",
       "    <tr style=\"text-align: right;\">\n",
       "      <th>medcond_yn</th>\n",
       "      <th>No</th>\n",
       "      <th>Unknown</th>\n",
       "      <th>Yes</th>\n",
       "    </tr>\n",
       "    <tr>\n",
       "      <th>age_group</th>\n",
       "      <th></th>\n",
       "      <th></th>\n",
       "      <th></th>\n",
       "    </tr>\n",
       "  </thead>\n",
       "  <tbody>\n",
       "    <tr>\n",
       "      <th>20 - 29 Years</th>\n",
       "      <td>NaN</td>\n",
       "      <td>2.0</td>\n",
       "      <td>NaN</td>\n",
       "    </tr>\n",
       "    <tr>\n",
       "      <th>30 - 39 Years</th>\n",
       "      <td>NaN</td>\n",
       "      <td>NaN</td>\n",
       "      <td>3.0</td>\n",
       "    </tr>\n",
       "    <tr>\n",
       "      <th>40 - 49 Years</th>\n",
       "      <td>4.0</td>\n",
       "      <td>9.0</td>\n",
       "      <td>9.0</td>\n",
       "    </tr>\n",
       "    <tr>\n",
       "      <th>50 - 59 Years</th>\n",
       "      <td>1.0</td>\n",
       "      <td>19.0</td>\n",
       "      <td>26.0</td>\n",
       "    </tr>\n",
       "    <tr>\n",
       "      <th>60 - 69 Years</th>\n",
       "      <td>1.0</td>\n",
       "      <td>29.0</td>\n",
       "      <td>40.0</td>\n",
       "    </tr>\n",
       "    <tr>\n",
       "      <th>70 - 79 Years</th>\n",
       "      <td>2.0</td>\n",
       "      <td>47.0</td>\n",
       "      <td>96.0</td>\n",
       "    </tr>\n",
       "    <tr>\n",
       "      <th>80+ Years</th>\n",
       "      <td>11.0</td>\n",
       "      <td>91.0</td>\n",
       "      <td>154.0</td>\n",
       "    </tr>\n",
       "  </tbody>\n",
       "</table>\n",
       "</div>"
      ],
      "text/plain": [
       "medcond_yn       No  Unknown    Yes\n",
       "age_group                          \n",
       "20 - 29 Years   NaN      2.0    NaN\n",
       "30 - 39 Years   NaN      NaN    3.0\n",
       "40 - 49 Years   4.0      9.0    9.0\n",
       "50 - 59 Years   1.0     19.0   26.0\n",
       "60 - 69 Years   1.0     29.0   40.0\n",
       "70 - 79 Years   2.0     47.0   96.0\n",
       "80+ Years      11.0     91.0  154.0"
      ]
     },
     "execution_count": 22,
     "metadata": {},
     "output_type": "execute_result"
    }
   ],
   "source": [
    "deaths.groupby(['age_group','medcond_yn'])['medcond_yn'].count().unstack()"
   ]
  },
  {
   "cell_type": "code",
   "execution_count": 23,
   "metadata": {},
   "outputs": [
    {
     "data": {
      "image/png": "[encoded data removed]",
      "text/plain": [
       "<Figure size 432x288 with 2 Axes>"
      ]
     },
     "metadata": {
      "needs_background": "light"
     },
     "output_type": "display_data"
    }
   ],
   "source": [
    "ax = sns.heatmap(deaths.groupby(['age_group','medcond_yn'])['medcond_yn'].count().unstack(), annot=True, fmt='.4g')"
   ]
  }
 ],
 "metadata": {
  "kernelspec": {
   "display_name": "Python 3",
   "language": "python",
   "name": "python3"
  },
  "language_info": {
   "codemirror_mode": {
    "name": "ipython",
    "version": 3
   },
   "file_extension": ".py",
   "mimetype": "text/x-python",
   "name": "python",
   "nbconvert_exporter": "python",
   "pygments_lexer": "ipython3",
   "version": "3.7.3"
  }
 },
 "nbformat": 4,
 "nbformat_minor": 2
}
